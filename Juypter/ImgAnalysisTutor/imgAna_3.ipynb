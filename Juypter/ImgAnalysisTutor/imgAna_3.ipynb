{
 "cells": [
  {
   "cell_type": "markdown",
   "metadata": {},
   "source": [
    "# WikiRecentPhase3\n",
    "Buil\n",
    "Shred the page, discover if it had and image and render the image. \n",
    "\n",
    "## Streams processing + windowing + "
   ]
  },
  {
   "cell_type": "code",
   "execution_count": 1,
   "metadata": {},
   "outputs": [
    {
     "name": "stdout",
     "output_type": "stream",
     "text": [
      "Requirement already satisfied: sseclient in /Users/siegenth/anaconda3/lib/python3.5/site-packages (0.0.19)\n",
      "Requirement already satisfied: six in /Users/siegenth/anaconda3/lib/python3.5/site-packages (from sseclient) (1.11.0)\n",
      "Requirement already satisfied: requests>=2.0.0 in /Users/siegenth/anaconda3/lib/python3.5/site-packages (from sseclient) (2.5.1)\n",
      "\u001b[33mYou are using pip version 18.1, however version 19.0.3 is available.\n",
      "You should consider upgrading via the 'pip install --upgrade pip' command.\u001b[0m\n",
      "Requirement already up-to-date: streamsx in /Users/siegenth/.local/lib/python3.5/site-packages (1.12.9)\n",
      "Requirement already satisfied, skipping upgrade: dill in /Users/siegenth/anaconda3/lib/python3.5/site-packages (from streamsx) (0.2.7.1)\n",
      "Requirement already satisfied, skipping upgrade: future in /Users/siegenth/.local/lib/python3.5/site-packages (from streamsx) (0.16.0)\n",
      "Requirement already satisfied, skipping upgrade: requests in /Users/siegenth/anaconda3/lib/python3.5/site-packages (from streamsx) (2.5.1)\n",
      "\u001b[33mYou are using pip version 18.1, however version 19.0.3 is available.\n",
      "You should consider upgrading via the 'pip install --upgrade pip' command.\u001b[0m\n"
     ]
    }
   ],
   "source": [
    "# Install components\n",
    "!pip install sseclient\n",
    "!pip install --user --upgrade streamsx"
   ]
  },
  {
   "cell_type": "code",
   "execution_count": 2,
   "metadata": {},
   "outputs": [],
   "source": [
    "# Setup \n",
    "import pandas as pd\n",
    "\n",
    "from IPython.core.debugger import set_trace\n",
    "from IPython.display import display, clear_output\n",
    "\n",
    "from statistics import mean\n",
    "from collections import deque\n",
    "from collections import Counter\n",
    "\n",
    "import matplotlib.pyplot as plt\n",
    "import ipywidgets as widgets\n",
    "from ipywidgets import Button, HBox, VBox, Layout\n",
    "\n",
    "from bs4 import BeautifulSoup\n",
    "\n",
    "%matplotlib inline\n",
    "\n",
    "from sseclient import SSEClient as EventSource\n",
    "\n",
    "from ipywidgets import Button, HBox, VBox, Layout\n",
    "\n",
    "from  functools import lru_cache\n",
    "import requests\n",
    "\n",
    "from streamsx.topology.topology import *\n",
    "import streamsx.rest as rest\n",
    "from streamsx.topology import context"
   ]
  },
  {
   "cell_type": "markdown",
   "metadata": {},
   "source": [
    "## Support functions for Jupyter"
   ]
  },
  {
   "cell_type": "code",
   "execution_count": 3,
   "metadata": {},
   "outputs": [],
   "source": [
    "def catchInterrupt(func):\n",
    "    \"\"\"decorator : when interupt occurs the display is lost if you don't catch it\n",
    "       TODO * <view>.stop_data_fetch()  # stop\n",
    "       \n",
    "    \"\"\"\n",
    "    def catch_interrupt(*args, **kwargs):\n",
    "        try: \n",
    "            func(*args, **kwargs)\n",
    "        except (KeyboardInterrupt): pass\n",
    "    return catch_interrupt\n",
    "\n",
    "#\n",
    "# Support for locating/rendering views.\n",
    "def display_view_stop(eventView, period=2):\n",
    "    \"\"\"Wrapper for streamsx.rest_primitives.View.display() to have button. \"\"\"\n",
    "    button =  widgets.Button(description=\"Stop Updating\")\n",
    "    display(button)\n",
    "    eventView.display(period=period) \n",
    "    def on_button_clicked(b):\n",
    "        eventView.stop_data_fetch()\n",
    "        b.description = \"Stopped\"\n",
    "    button.on_click(on_button_clicked)\n",
    "\n",
    "def view_events(views):\n",
    "    \"\"\"\n",
    "    Build interface to display a list of views and \n",
    "    display view when selected from list.\n",
    "     \n",
    "    \"\"\"\n",
    "    view_names = [view.name for view in views]\n",
    "    nameView = dict(zip(view_names, views))    \n",
    "    select = widgets.RadioButtons(\n",
    "        options = view_names,\n",
    "        value = None,\n",
    "        description = 'Select view to display',\n",
    "        disabled = False\n",
    "    )\n",
    "    def on_change(b):\n",
    "        if (b['name'] == 'label'):\n",
    "            clear_output(wait=True)\n",
    "            [view.stop_data_fetch() for view in views ]\n",
    "            display(select)\n",
    "            display_view_stop(nameView[b['new']], period=2)\n",
    "    select.observe(on_change)\n",
    "    display(select)\n",
    "\n",
    "def find_job(instance, job_name=None):\n",
    "    \"\"\"locate job within instance\"\"\"\n",
    "    for job in instance.get_jobs():    \n",
    "        if job.applicationName.split(\"::\")[-1] == job_name:\n",
    "            return job\n",
    "    else:\n",
    "        return None\n",
    "\n",
    "def display_views(instance, job_name):\n",
    "    \"Locate/promote and display all views of a job\"\n",
    "    job = find_job(instance, job_name=job_name)\n",
    "    if job is None:\n",
    "        print(\"Failed to locate job\")\n",
    "    else:\n",
    "        views = job.get_views()\n",
    "        view_events(views)\n",
    "\n",
    "def list_jobs(_instance=None, cancel=False):\n",
    "    \"\"\"\n",
    "    Interactive selection of jobs to cancel.\n",
    "    \n",
    "    Prompts with SelectMultiple widget, if thier are no jobs, your presente with a blank list.\n",
    "    \n",
    "    \"\"\"\n",
    "    active_jobs = { \"{}:{}\".format(job.name, job.health):job for job in _instance.get_jobs()}\n",
    "\n",
    "    selectMultiple_jobs = widgets.SelectMultiple(\n",
    "        options=active_jobs.keys(),\n",
    "        value=[],\n",
    "        rows=len(active_jobs),\n",
    "        description = \"Cancel jobs(s)\" if cancel else \"Active job(s):\",\n",
    "        layout=Layout(width='60%')\n",
    "    )\n",
    "    cancel_jobs = widgets.ToggleButton(\n",
    "        value=False,\n",
    "        description='Cancel',\n",
    "        disabled=False,\n",
    "        button_style='warning', # 'success', 'info', 'warning', 'danger' or ''\n",
    "        tooltip='Delete selected jobs',\n",
    "        icon=\"stop\"\n",
    "    )\n",
    "    def on_value_change(change):\n",
    "        for job in selectMultiple_jobs.value:\n",
    "            print(\"canceling job:\", job, active_jobs[job].cancel())\n",
    "        cancel_jobs.disabled = True\n",
    "        selectMultiple_jobs.disabled = True\n",
    "\n",
    "    cancel_jobs.observe(on_value_change, names='value')\n",
    "    if cancel:\n",
    "        return HBox([selectMultiple_jobs, cancel_jobs])\n",
    "    else:\n",
    "        return HBox([selectMultiple_jobs])"
   ]
  },
  {
   "cell_type": "markdown",
   "metadata": {},
   "source": [
    "# Connect to the server :  ICP4D or Cloud instance. \n",
    "Attempt to import if fails the cfg will not be defined we know were using \n",
    "Cloud."
   ]
  },
  {
   "cell_type": "code",
   "execution_count": 4,
   "metadata": {},
   "outputs": [
    {
     "name": "stdout",
     "output_type": "stream",
     "text": [
      "Outside ICP4D\n"
     ]
    }
   ],
   "source": [
    "# ICP4D  - injected by 'Connected to instance' menu item\n",
    "try:\n",
    "    from icpd_core import icpd_util\n",
    "    cfg = icpd_util.get_service_instance_details(name='sample-icp1')\n",
    "    cfg[context.ConfigParams.SSL_VERIFY] = False\n",
    "    instance = rest.Instance.of_service(cfg)\n",
    "    print(\"Within ICP4D\")\n",
    "except ImportError:\n",
    "    cfg = None\n",
    "    print(\"Outside ICP4D\")"
   ]
  },
  {
   "cell_type": "code",
   "execution_count": 5,
   "metadata": {},
   "outputs": [],
   "source": [
    "# disable 'InsecureRequestWarning'  - must be put after startup\n",
    "if cfg is not None:\n",
    "    import urllib3\n",
    "    urllib3.disable_warnings(urllib3.exceptions.InsecureRequestWarning)"
   ]
  },
  {
   "cell_type": "code",
   "execution_count": 6,
   "metadata": {},
   "outputs": [],
   "source": [
    "# NOT ICP4D : cloud access - \n",
    "if cfg is None:\n",
    "    import credential   # remove @ ICP4D\n",
    "    import common\n",
    "    # TODO * check if instance is up\n",
    "    # - link up to first cell (can you do a test and execute)\n",
    "    sc = rest.StreamingAnalyticsConnection(service_name='Streaming3Turbine', vcap_services={'streaming-analytics':[{'name':'Streaming3Turbine','credentials':credential.streaming3Turbine}]})\n",
    "    instance = sc.get_instances()[0]\n",
    "    # Render the views....."
   ]
  },
  {
   "cell_type": "code",
   "execution_count": 7,
   "metadata": {},
   "outputs": [
    {
     "data": {
      "application/vnd.jupyter.widget-view+json": {
       "model_id": "23bdf4a2355c4357b98ac6bbc9789b76",
       "version_major": 2,
       "version_minor": 0
      },
      "text/html": [
       "<p>Failed to display Jupyter Widget of type <code>HBox</code>.</p>\n",
       "<p>\n",
       "  If you're reading this message in the Jupyter Notebook or JupyterLab Notebook, it may mean\n",
       "  that the widgets JavaScript is still loading. If this message persists, it\n",
       "  likely means that the widgets JavaScript library is either not installed or\n",
       "  not enabled. See the <a href=\"https://ipywidgets.readthedocs.io/en/stable/user_install.html\">Jupyter\n",
       "  Widgets Documentation</a> for setup instructions.\n",
       "</p>\n",
       "<p>\n",
       "  If you're reading this message in another frontend (for example, a static\n",
       "  rendering on GitHub or <a href=\"https://nbviewer.jupyter.org/\">NBViewer</a>),\n",
       "  it may mean that your frontend doesn't currently support widgets.\n",
       "</p>\n"
      ],
      "text/plain": [
       "HBox(children=(SelectMultiple(description='Active job(s):', layout=Layout(width='60%'), options=('ipythoninput56f6b242d49e00::WikiPhase3_4:healthy',), rows=1, value=()),))"
      ]
     },
     "metadata": {},
     "output_type": "display_data"
    }
   ],
   "source": [
    "list_jobs(instance)"
   ]
  },
  {
   "cell_type": "markdown",
   "metadata": {},
   "source": [
    "# Foundation : Code from WikiRecentPhase2\n",
    "This page is a is build upon the WikieRecentPhase2, the contents are included refer to the originating code for\n",
    "details."
   ]
  },
  {
   "cell_type": "code",
   "execution_count": 8,
   "metadata": {},
   "outputs": [],
   "source": [
    "def get_events():\n",
    "    \"\"\"fetch recent changes from wikievents site using SSE\"\"\"\n",
    "    for change in EventSource('https://stream.wikimedia.org/v2/stream/recentchange'):\n",
    "        if len(change.data):\n",
    "            try:\n",
    "                obj = json.loads(change.data)\n",
    "            except json.JSONDecodeError as err:\n",
    "                print(\"JSON l1 error:\", err, \"Invalid JSON:\", change.data)\n",
    "            except json.decoder.JSONDecodeError as err:\n",
    "                print(\"JSON l2 error:\", err, \"Invalid JSON:\", change.data)\n",
    "            else:\n",
    "                yield(obj)\n"
   ]
  },
  {
   "cell_type": "code",
   "execution_count": 9,
   "metadata": {},
   "outputs": [],
   "source": [
    "class sum_aggregate():\n",
    "    def __init__(self, sum_map={'new_len':'newSum','old_len':'oldSum','delta_len':'deltaSum' }):\n",
    "        \"\"\"\n",
    "        Summation of column(s) over a window's list of objects. \n",
    "        On a windows list objects, perform summation on the summary_field, output to result_field\n",
    "        \"\"\"\n",
    "        self.sum_map = sum_map\n",
    "    def __call__(self, tuples):    \n",
    "        summaries = dict()\n",
    "        for summary_field,result_field in self.sum_map.items():\n",
    "            summation = sum([ele[summary_field] for ele in tuples])\n",
    "            summaries.update({result_field : summation})\n",
    "        return(summaries)\n"
   ]
  },
  {
   "cell_type": "code",
   "execution_count": 10,
   "metadata": {},
   "outputs": [],
   "source": [
    "import collections\n",
    "class tally_fields(object):\n",
    "    def __init__(self, top_count=3, fields=['user', 'wiki', 'title']):\n",
    "        \"\"\"\n",
    "        Tally fields of a list of tuples, output the name and . \n",
    "        \"\"\"\n",
    "        self.fields = fields\n",
    "        self.top_count = top_count\n",
    "    def __call__(self, tuples)->list:\n",
    "        tallies = dict()\n",
    "        for field in self.fields:\n",
    "            stage = [tuple[field] for tuple in tuples if tuple[field] is not None]\n",
    "            tallies[field] = collections.Counter(stage).most_common(self.top_count)\n",
    "        return tallies"
   ]
  },
  {
   "cell_type": "code",
   "execution_count": 11,
   "metadata": {},
   "outputs": [],
   "source": [
    "import csv\n",
    "class wiki_lang():\n",
    "    \"\"\"\n",
    "    Augment the tuple to include language a description of the wiki the \n",
    "    event is destined for. The entry is augmented with language, native and code. \n",
    "    \n",
    "    Mapping is loaded at build time and utilized at runtime.\n",
    "    \"\"\"\n",
    "\n",
    "    def __init__(self, fname=\"wikimap.csv\"):\n",
    "        self.wiki_map = dict()\n",
    "        with open(fname, mode='r') as csv_file:\n",
    "            csv_reader = csv.DictReader(csv_file)\n",
    "            for row in csv_reader:\n",
    "                self.wiki_map[row['dbname']] = row\n",
    "\n",
    "    def __call__(self, tuple):\n",
    "        if tuple['wiki'] in self.wiki_map:\n",
    "            key = tuple['wiki']\n",
    "            tuple['code'] = self.wiki_map[key]['code']\n",
    "            tuple['language'] = self.wiki_map[key]['in_english']\n",
    "            tuple['native'] = self.wiki_map[key]['name_language']\n",
    "        else:\n",
    "            tuple['code'] = tuple['language'] = tuple['native'] = None\n",
    "        return tuple\n"
   ]
  },
  {
   "cell_type": "markdown",
   "metadata": {},
   "source": [
    "## New functionality...\n",
    "- find possible link to image\n",
    "- build and shred the link to find the image. \n",
    "- shredding can go down mulitple levels.\n",
    "- turn on lru_cache() after you determine why it fails\n",
    "\n",
    "If the title has a URL it's with an image extenstion (.jpg, .gif) it's good bet that and image is being added to an article. The url maybe a a page with the image url embeded within it. Look at using the 'beatifulsoup' package to locate the image within the linked page. With the image you can do image analysis use beautifulsoup. "
   ]
  },
  {
   "cell_type": "code",
   "execution_count": 12,
   "metadata": {},
   "outputs": [],
   "source": [
    "#@lru_cache(maxsize=None)\n",
    "def shred_item_image(url):\n",
    "    \"\"\"Shed the item page, seeking image. \n",
    "    \n",
    "    Discover if referencing image by shredding referening url. If it is, dig deeper \n",
    "    and extract the 'src' link. \n",
    "    \n",
    "    Locate the image within the page, locate <a class='image' src=**url** ,..>\n",
    "    \n",
    "    This traverses two files, pulls the thumbnail ref and follows to fullsize.\n",
    "    \n",
    "    Args:\n",
    "        url: item page to analyse\n",
    "    \n",
    "    Returns: \n",
    "        If image found [{name,title,org_url},...]\n",
    "    \n",
    "    .. warning:: this fetches from wikipedia, requesting too frequenty is bad manners. Uses the lru_cache()\n",
    "    so it minimises the requests.\n",
    "    \n",
    "    This can pick up multiple titles, on a page that is extract, dropping to only one. \n",
    "    \"\"\"\n",
    "    img_urls = list()\n",
    "    try:\n",
    "        rThumb = requests.get(url = url)\n",
    "        #print(r.content)\n",
    "        soupThumb = BeautifulSoup(rThumb.content, \"html.parser\")\n",
    "        divThumb = soupThumb.find(\"div\", class_=\"thumb\")\n",
    "        if divThumb is None:\n",
    "            print(\"No thumb found\", url  )\n",
    "            return img_urls\n",
    "        thumbA = divThumb.find(\"a\", class_=\"image\")\n",
    "        thumbHref = thumbA.attrs['href']\n",
    "\n",
    "        rFullImage = requests.get(url=thumbHref)\n",
    "        soupFull = BeautifulSoup(rFullImage.content, \"html.parser\")\n",
    "    except Exception as e:\n",
    "        print(\"Error request.get, url: {} except:{}\".format(url, str(e)))\n",
    "    else:\n",
    "        divFull = soupFull.find(\"div\", class_=\"fullImageLink\", id=\"file\")\n",
    "        if (divFull is not None):\n",
    "            fullA = divFull.find(\"a\")\n",
    "            img_urls.append({\"title\":soupThumb.title.getText(),\"img\": fullA.attrs['href'],\"org_url\":url})\n",
    "    finally:\n",
    "        return img_urls"
   ]
  },
  {
   "cell_type": "code",
   "execution_count": 13,
   "metadata": {},
   "outputs": [],
   "source": [
    "#@lru_cache(maxsize=None)\n",
    "def shred_jpg_image(url):\n",
    "    \"\"\"Shed the jpg page, seeking image, the reference begins with 'Fred:' and \n",
    "    ends with '.jpg'.\n",
    "    \n",
    "    Discover if referencing image by shredding referening url. If it is, dig deeper \n",
    "    and extract the 'src' link. \n",
    "    \n",
    "    Locate the image within the page, \n",
    "            locate : <div class='fullImageLinks'..>\n",
    "                         <a href=\"..url to image\" ...>.</a>\n",
    "                         :\n",
    "                     </div>  \n",
    "    Args:\n",
    "        url: item page to analyse\n",
    "    \n",
    "    Returns: \n",
    "        If image found [{name,title,org_url='requesting url'},...]\n",
    "    \n",
    "    .. warning:: this fetches from wikipedia, requesting too frequenty is bad manners. Uses the lru_cache()\n",
    "    so it minimises the requests.\n",
    "    \n",
    "    \"\"\"\n",
    "    img_urls = list()\n",
    "    try:\n",
    "        r = requests.get(url = url)\n",
    "        soup = BeautifulSoup(r.content, \"html.parser\")\n",
    "    except Exception as e:\n",
    "        print(\"Error request.get, url: {} except:{}\".format(url, str(e)))\n",
    "    else:\n",
    "        div = soup.find(\"div\", class_=\"fullImageLink\")\n",
    "        if (div is not None):\n",
    "            imgA = div.find(\"a\")\n",
    "            img_urls.append({\"title\":soup.title.getText(),\"img\":\"https:\" + imgA.attrs['href'],\"org_url\":url})\n",
    "        else: \n",
    "            print(\"failed to find div for\",url)\n",
    "    finally:\n",
    "        return img_urls"
   ]
  },
  {
   "cell_type": "code",
   "execution_count": 14,
   "metadata": {},
   "outputs": [],
   "source": [
    "class soup_image():\n",
    "    \"\"\"If the the field_name has a potential for a image we\n",
    "    \n",
    "    Return: \n",
    "        None : field did not have potenital for an image.\n",
    "        [] : had potential but no url found. \n",
    "        [{title,img,href}]\n",
    "    \"\"\"\n",
    "    def __init__(self, field_name=\"title\", url_base=\"https://www.wikidata.org/wiki/\"):\n",
    "        self.url_base = url_base\n",
    "        self.field_name = field_name\n",
    "    \n",
    "    def __call__(self, _tuple):\n",
    "        title = _tuple[self.field_name]\n",
    "        img_desc = None \n",
    "        if (title[0] == \"Q\"):\n",
    "            lnk = self.url_base + title\n",
    "            img_desc = shred_item_image(lnk)\n",
    "        elif title.startswith(\"File:\") and (title.endswith('.JPG') or title.endswith('.jpg')):\n",
    "            lnk = self.url_base + title.replace(' ','_')\n",
    "            img_desc = shred_jpg_image(lnk)\n",
    "        _tuple['img_desc'] = img_desc\n",
    "        return _tuple"
   ]
  },
  {
   "cell_type": "markdown",
   "metadata": {},
   "source": [
    "## Compose and submit"
   ]
  },
  {
   "cell_type": "code",
   "execution_count": 2,
   "metadata": {},
   "outputs": [
    {
     "ename": "NameError",
     "evalue": "name 'list_jobs' is not defined",
     "output_type": "error",
     "traceback": [
      "\u001b[0;31m---------------------------------------------------------------------------\u001b[0m",
      "\u001b[0;31mNameError\u001b[0m                                 Traceback (most recent call last)",
      "\u001b[0;32m<ipython-input-2-78de35857732>\u001b[0m in \u001b[0;36m<module>\u001b[0;34m()\u001b[0m\n\u001b[0;32m----> 1\u001b[0;31m \u001b[0mlist_jobs\u001b[0m\u001b[0;34m(\u001b[0m\u001b[0minstance\u001b[0m\u001b[0;34m,\u001b[0m \u001b[0mcancel\u001b[0m\u001b[0;34m=\u001b[0m\u001b[0;32mTrue\u001b[0m\u001b[0;34m)\u001b[0m\u001b[0;34m\u001b[0m\u001b[0m\n\u001b[0m",
      "\u001b[0;31mNameError\u001b[0m: name 'list_jobs' is not defined"
     ]
    }
   ],
   "source": [
    "list_jobs(instance, cancel=True)"
   ]
  },
  {
   "cell_type": "code",
   "execution_count": 30,
   "metadata": {},
   "outputs": [
    {
     "name": "stdout",
     "output_type": "stream",
     "text": [
      "Submission parameters:\n",
      "  - serviceType:STREAMING_ANALYTIC\n",
      "  - buildType:DISTRIBUTED\n",
      "  - jobName:WikiPhase3\n",
      "  - cancel:True\n",
      "*** No jobs canceled\n"
     ]
    },
    {
     "data": {
      "application/vnd.jupyter.widget-view+json": {
       "model_id": "2fae286bc6eb491bb5beca645387d452",
       "version_major": 2,
       "version_minor": 0
      },
      "text/html": [
       "<p>Failed to display Jupyter Widget of type <code>IntProgress</code>.</p>\n",
       "<p>\n",
       "  If you're reading this message in the Jupyter Notebook or JupyterLab Notebook, it may mean\n",
       "  that the widgets JavaScript is still loading. If this message persists, it\n",
       "  likely means that the widgets JavaScript library is either not installed or\n",
       "  not enabled. See the <a href=\"https://ipywidgets.readthedocs.io/en/stable/user_install.html\">Jupyter\n",
       "  Widgets Documentation</a> for setup instructions.\n",
       "</p>\n",
       "<p>\n",
       "  If you're reading this message in another frontend (for example, a static\n",
       "  rendering on GitHub or <a href=\"https://nbviewer.jupyter.org/\">NBViewer</a>),\n",
       "  it may mean that your frontend doesn't currently support widgets.\n",
       "</p>\n"
      ],
      "text/plain": [
       "IntProgress(value=0, bar_style='info', description='Initializing', max=10, style=ProgressStyle(description_width='initial'))"
      ]
     },
     "metadata": {},
     "output_type": "display_data"
    }
   ],
   "source": [
    "## If WikiPhase3 is running you may not want to submit, cancel first.\n",
    "\n",
    "def WikiPhase3(jobName=None, wiki_lang_fname=None):\n",
    "    \"\"\"\n",
    "    Compose topology. \n",
    "    -- wiki_lang : csv file mapping database name to langauge\n",
    "\n",
    "    \"\"\"\n",
    "    topo = Topology(name=jobName)\n",
    "    ### make sure we sseclient in Streams environment.\n",
    "    topo.add_pip_package('sseclient')\n",
    "    topo.add_pip_package('bs4')\n",
    "    \n",
    "    ## wiki events\n",
    "    source = topo.source(get_events, name=\"WikiFeed\")\n",
    "    ## select events generated by humans\n",
    "    edits = source.filter(lambda x: x['type']=='edit' and x['bot'] is False, name='humanEdits')\n",
    "    # pare down the humans set of columns\n",
    "    paredEdits = edits.map(lambda x : {'timestamp':x['timestamp'],'new_len':x['length']['new'],'old_len':x['length']['old'], 'delta_len':x['length']['new'] - x['length']['old'],'wiki':x['wiki'],'user':x['user'],'title':x['title']}, \n",
    "                        name=\"selectMain\")\n",
    "    paredHumanEdits = paredEdits.view(buffer_time=1.0, sample_size=200, name=\"paredHumanEdits\", description=\"Edits done by humans\")\n",
    "\n",
    "    ## Define window(count)& aggregate\n",
    "    winAgg = paredEdits.last(100).trigger(20)\n",
    "    sumAggregate_ = winAgg.aggregate(sum_aggregate(sum_map={'new_len':'newSum','old_len':'oldSum','delta_len':'deltaSum' }), name=\"sumAggregate\")\n",
    "    aggEdits = sumAggregate_.view(buffer_time=1.0, sample_size=200, name=\"aggEdits\", description=\"Aggregations of human edits\")\n",
    "\n",
    "    ## Define window(count) & tally edits\n",
    "    tallyWin = paredEdits.last(100).trigger(10)\n",
    "    tallyTop = tallyWin.aggregate(tally_fields(fields=['user', 'title'], top_count=10), name=\"talliesTop\")\n",
    "    talliesCount = tallyTop.view(buffer_time=1.0, sample_size=200, name=\"talliesCount\", description=\"Top count tallies: user,titles\")\n",
    "\n",
    "    ## augment filterd/pared edits with language\n",
    "\n",
    "    langAugment = paredEdits.map(wiki_lang(fname=wiki_lang_fname), name=\"langAugment\")\n",
    "    langAugment.view(buffer_time=1.0, sample_size=200, name=\"langAugment\", description=\"Language derived from wiki\")\n",
    "    \n",
    "    ## attempt to extract image using beautifulsoup add img_desc[{}] field\n",
    "    soupImage = langAugment.map(soup_image(field_name=\"title\", url_base=\"https://www.wikidata.org/wiki/\"),name=\"imgSoup\")\n",
    "    soupActive = soupImage.filter(lambda x: x['img_desc'] is not None and len(x['img_desc']) > 0, name=\"soupActive\")\n",
    "    soupActive.view(buffer_time=1.0, sample_size=200, name=\"soupActive\", description=\"Url souped\")\n",
    "\n",
    "    ## Define window(time) & tally language\n",
    "    timeLangWin = langAugment.last(datetime.timedelta(minutes=2)).trigger(5)\n",
    "    timeLanguage = timeLangWin.aggregate(tally_fields(fields=['language'], top_count=10), name=\"timeLang\")\n",
    "    talliesTime = timeLanguage.view(buffer_time=1.0, sample_size=200, name=\"talliesTime\", description=\"Top timed tallies: language\")\n",
    "   \n",
    "    timeLanguage.print(name=\"printMinLang\")\n",
    "    return ({\"topo\":topo,\"view\":{ }})\n",
    "\n",
    "\n",
    "## ICP4D submission\n",
    "from streamsx.topology import context\n",
    "from streamsx.topology.topology import Topology\n",
    "\n",
    "#cfg=icpd_util.get_service_instance_details(name='sample-icp1')\n",
    "if cfg is not None:\n",
    "    resp = WikiPhase3(jobName=\"WikiPhase3\", wiki_lang_fname=os.environ['DSX_PROJECT_DIR']+'/datasets/wikimap.csv')\n",
    "    # Disable SSL certificate verification if necessary\n",
    "    cfg[context.ConfigParams.SSL_VERIFY] = False\n",
    "\n",
    "    submission_result = context.submit(\"DISTRIBUTED\",\n",
    "                                   resp['topo'], \n",
    "                                   config=cfg)\n",
    "    # The submission_result object contains information about the running application, or job\n",
    "    if submission_result.job:\n",
    "        print(\"JobId: \", submission_result['id'] , \"Name: \", submission_result['name'])\n",
    "## Cloud submission\n",
    "if cfg is None:\n",
    "    resp = WikiPhase3(jobName=\"WikiPhase3\", wiki_lang_fname=\"wikimap.csv\")\n",
    "    submitStatus = common.submitProcess(topology=resp['topo'],\n",
    "                                        streamsService=\"Streaming3Turbine\",\n",
    "                                        buildType=\"DISTRIBUTED\",\n",
    "                                        serviceType=\"STREAMING_ANALYTIC\",\n",
    "                                        jobName=\"WikiPhase3\",\n",
    "                                        cancel=True)\n"
   ]
  },
  {
   "cell_type": "markdown",
   "metadata": {},
   "source": [
    "## Render the feed of images two paths."
   ]
  },
  {
   "cell_type": "code",
   "execution_count": 16,
   "metadata": {},
   "outputs": [],
   "source": [
    "# Notebook support\n",
    "\n",
    "def render_image(image_url=None, output_region=None):\n",
    "    \"\"\"Write the image into a output region.\n",
    "    \n",
    "    Args::\n",
    "        url: image\n",
    "        output_region: output region\n",
    "        \n",
    "    .. note:: The creation of the output 'stage', if this is not done the image is rendered in the page and\n",
    "        the output region. \n",
    "        \n",
    "    \"\"\"\n",
    "    \n",
    "    try:\n",
    "        response = requests.get(image_url)\n",
    "        stage = widgets.Output(layout={'border': '1px solid green'})\n",
    "    except:\n",
    "        print(\"Error on request : \", image_url)\n",
    "    else:\n",
    "        if response.status_code == 200:\n",
    "            with output_region:\n",
    "                stage.append_display_data(widgets.Image(\n",
    "                    value=response.content,\n",
    "                    #format='jpg',\n",
    "                    width=300,\n",
    "                    height=400,\n",
    "                ))\n",
    "            output_region.clear_output(wait=True) "
   ]
  },
  {
   "cell_type": "markdown",
   "metadata": {},
   "source": [
    "### Render the images - beatifulsoup @ browser.\n",
    "\n",
    "Tapping the view before the beatifulsoup is invoked : langAugment\n",
    "\n",
    "Why is this here? This code was created/debugged locally using the WikieRecentPhase3,\n",
    "when I was done I added the lines to the application to pull them up into the server \n",
    "use them. \n",
    "\n",
    "```python\n",
    "  \n",
    "    soupImage = langAugment.map(soup_image(field_name=\"title\", \n",
    "        url_base=\"https://www.wikidata.org/wiki/\"),name=\"imgSoup\")\n",
    "    soupImage.view(buffer_time=1.0, sample_size=200, name=\"soupUrl\", description=\"Url souped\")\n",
    "\n",
    "```\n",
    "\n",
    "Mention....hmm?\n",
    "\n",
    "\n",
    "In the view from Streams\n",
    "- extract the item url\n",
    "- get item page, extract image tag\n",
    "- render image\n",
    "\n",
    "The output region is below the cell,"
   ]
  },
  {
   "cell_type": "code",
   "execution_count": null,
   "metadata": {},
   "outputs": [],
   "source": [
    "# Notebook support\n",
    "status_widget = widgets.Label(value=\"Status\", layout={'border': '1px solid green','width':'30%'})\n",
    "url_widget = widgets.Label(value=\"Img URL\", layout={'border': '1px solid green','width':'100%'})\n",
    "image_widget = widgets.Output(layout={'border': '1px solid red','width':'30%','height':'270pt'})\n",
    "title_widget = widgets.Label(value=\"Title\", layout={'border': '1px solid green','width':'30%'})\n",
    "\n",
    "dashboard = widgets.VBox([status_widget, image_widget, title_widget, url_widget])\n",
    "display(dashboard)"
   ]
  },
  {
   "cell_type": "code",
   "execution_count": 17,
   "metadata": {},
   "outputs": [],
   "source": [
    "# Notebook support\n",
    "ana_stage = list()\n",
    "def display_image(tup, image_region=None, title_region=None, url_region=None):\n",
    "    if tup['img_desc'] is not None and len(tup['img_desc']) > 0:\n",
    "        display_desc = tup['img_desc'][0]\n",
    "        ana_stage.append(display_desc)\n",
    "        title_region.value = \"Img Title:{}\".format(display_desc['title'] )\n",
    "        url_region.value = \"{}\".format(display_desc['img'])\n",
    "        render_image(image_url=display_desc['img'], output_region=image_region)"
   ]
  },
  {
   "cell_type": "code",
   "execution_count": null,
   "metadata": {},
   "outputs": [],
   "source": [
    "# Notebook support\n",
    "# setup \n",
    "_view = instance.get_views(name=\"langAugment\")[0]\n",
    "_view.start_data_fetch()\n",
    "@catchInterrupt\n",
    "def browser_soup():\n",
    "    while True:\n",
    "        view_tuples = _view.fetch_tuples(max_tuples=100, timeout=2)\n",
    "        for tup in view_tuples:\n",
    "            status_widget.value = tup['title']\n",
    "            soup_tuple = soup.__call__(tup)\n",
    "            display_image(soup_tuple, image_region=image_widget, title_region=title_widget, url_region=url_widget)\n",
    "    \n",
    "browser_soup()"
   ]
  },
  {
   "cell_type": "code",
   "execution_count": null,
   "metadata": {},
   "outputs": [],
   "source": [
    "list_jobs(instance, cancel=True)"
   ]
  },
  {
   "cell_type": "markdown",
   "metadata": {},
   "source": [
    "### Render the images - beatifulsoup @ server\n",
    "\n",
    "Tapping the after the beatifulsoup is invoked : soupUrl"
   ]
  },
  {
   "cell_type": "code",
   "execution_count": 18,
   "metadata": {},
   "outputs": [
    {
     "data": {
      "application/vnd.jupyter.widget-view+json": {
       "model_id": "08d8b27f968c43a5ad31891c0aa90281",
       "version_major": 2,
       "version_minor": 0
      },
      "text/html": [
       "<p>Failed to display Jupyter Widget of type <code>RadioButtons</code>.</p>\n",
       "<p>\n",
       "  If you're reading this message in the Jupyter Notebook or JupyterLab Notebook, it may mean\n",
       "  that the widgets JavaScript is still loading. If this message persists, it\n",
       "  likely means that the widgets JavaScript library is either not installed or\n",
       "  not enabled. See the <a href=\"https://ipywidgets.readthedocs.io/en/stable/user_install.html\">Jupyter\n",
       "  Widgets Documentation</a> for setup instructions.\n",
       "</p>\n",
       "<p>\n",
       "  If you're reading this message in another frontend (for example, a static\n",
       "  rendering on GitHub or <a href=\"https://nbviewer.jupyter.org/\">NBViewer</a>),\n",
       "  it may mean that your frontend doesn't currently support widgets.\n",
       "</p>\n"
      ],
      "text/plain": [
       "RadioButtons(description='Select view to display', index=3, options=('aggEdits', 'langAugment', 'paredHumanEdits', 'soupActive', 'talliesCount', 'talliesTime'), value=None)"
      ]
     },
     "metadata": {},
     "output_type": "display_data"
    },
    {
     "data": {
      "application/vnd.jupyter.widget-view+json": {
       "model_id": "ff096f32761c4f74a5542c0461fc1b17",
       "version_major": 2,
       "version_minor": 0
      },
      "text/html": [
       "<p>Failed to display Jupyter Widget of type <code>Button</code>.</p>\n",
       "<p>\n",
       "  If you're reading this message in the Jupyter Notebook or JupyterLab Notebook, it may mean\n",
       "  that the widgets JavaScript is still loading. If this message persists, it\n",
       "  likely means that the widgets JavaScript library is either not installed or\n",
       "  not enabled. See the <a href=\"https://ipywidgets.readthedocs.io/en/stable/user_install.html\">Jupyter\n",
       "  Widgets Documentation</a> for setup instructions.\n",
       "</p>\n",
       "<p>\n",
       "  If you're reading this message in another frontend (for example, a static\n",
       "  rendering on GitHub or <a href=\"https://nbviewer.jupyter.org/\">NBViewer</a>),\n",
       "  it may mean that your frontend doesn't currently support widgets.\n",
       "</p>\n"
      ],
      "text/plain": [
       "Button(description='Stop Updating', style=ButtonStyle())"
      ]
     },
     "metadata": {},
     "output_type": "display_data"
    },
    {
     "data": {
      "application/vnd.jupyter.widget-view+json": {
       "model_id": "514c8647947f47a2a2ee58a2f4b339ae",
       "version_major": 2,
       "version_minor": 0
      },
      "text/html": [
       "<p>Failed to display Jupyter Widget of type <code>VBox</code>.</p>\n",
       "<p>\n",
       "  If you're reading this message in the Jupyter Notebook or JupyterLab Notebook, it may mean\n",
       "  that the widgets JavaScript is still loading. If this message persists, it\n",
       "  likely means that the widgets JavaScript library is either not installed or\n",
       "  not enabled. See the <a href=\"https://ipywidgets.readthedocs.io/en/stable/user_install.html\">Jupyter\n",
       "  Widgets Documentation</a> for setup instructions.\n",
       "</p>\n",
       "<p>\n",
       "  If you're reading this message in another frontend (for example, a static\n",
       "  rendering on GitHub or <a href=\"https://nbviewer.jupyter.org/\">NBViewer</a>),\n",
       "  it may mean that your frontend doesn't currently support widgets.\n",
       "</p>\n"
      ],
      "text/plain": [
       "VBox(children=(HBox(children=(Text(value='Url souped', description='soupActive', disabled=True), Valid(value=True, description='Fetching', readout='Stopped'))), Output(layout=Layout(border='1px solid black'))))"
      ]
     },
     "metadata": {},
     "output_type": "display_data"
    }
   ],
   "source": [
    "display_views(instance, job_name=\"WikiPhase3\")"
   ]
  },
  {
   "cell_type": "code",
   "execution_count": 19,
   "metadata": {},
   "outputs": [
    {
     "data": {
      "application/vnd.jupyter.widget-view+json": {
       "model_id": "6e201b17f71942fb9b3d1f5b5f38707c",
       "version_major": 2,
       "version_minor": 0
      },
      "text/html": [
       "<p>Failed to display Jupyter Widget of type <code>VBox</code>.</p>\n",
       "<p>\n",
       "  If you're reading this message in the Jupyter Notebook or JupyterLab Notebook, it may mean\n",
       "  that the widgets JavaScript is still loading. If this message persists, it\n",
       "  likely means that the widgets JavaScript library is either not installed or\n",
       "  not enabled. See the <a href=\"https://ipywidgets.readthedocs.io/en/stable/user_install.html\">Jupyter\n",
       "  Widgets Documentation</a> for setup instructions.\n",
       "</p>\n",
       "<p>\n",
       "  If you're reading this message in another frontend (for example, a static\n",
       "  rendering on GitHub or <a href=\"https://nbviewer.jupyter.org/\">NBViewer</a>),\n",
       "  it may mean that your frontend doesn't currently support widgets.\n",
       "</p>\n"
      ],
      "text/plain": [
       "VBox(children=(Label(value='Status', layout=Layout(border='1px solid green', width='30%')), Output(layout=Layout(border='1px solid red', height='270pt', width='30%')), Label(value='Title', layout=Layout(border='1px solid green', width='30%')), Label(value='Img URL', layout=Layout(border='1px solid green', width='100%'))))"
      ]
     },
     "metadata": {},
     "output_type": "display_data"
    }
   ],
   "source": [
    "    "
   ]
  },
  {
   "cell_type": "code",
   "execution_count": 1,
   "metadata": {},
   "outputs": [
    {
     "ename": "NameError",
     "evalue": "name 'instance' is not defined",
     "output_type": "error",
     "traceback": [
      "\u001b[0;31m---------------------------------------------------------------------------\u001b[0m",
      "\u001b[0;31mNameError\u001b[0m                                 Traceback (most recent call last)",
      "\u001b[0;32m<ipython-input-1-b08c3780d3ce>\u001b[0m in \u001b[0;36m<module>\u001b[0;34m()\u001b[0m\n\u001b[1;32m      1\u001b[0m \u001b[0;31m# Notebook support\u001b[0m\u001b[0;34m\u001b[0m\u001b[0;34m\u001b[0m\u001b[0m\n\u001b[1;32m      2\u001b[0m \u001b[0;31m# setup\u001b[0m\u001b[0;34m\u001b[0m\u001b[0;34m\u001b[0m\u001b[0m\n\u001b[0;32m----> 3\u001b[0;31m \u001b[0m_view\u001b[0m \u001b[0;34m=\u001b[0m \u001b[0minstance\u001b[0m\u001b[0;34m.\u001b[0m\u001b[0mget_views\u001b[0m\u001b[0;34m(\u001b[0m\u001b[0mname\u001b[0m\u001b[0;34m=\u001b[0m\u001b[0;34m\"soupActive\"\u001b[0m\u001b[0;34m)\u001b[0m\u001b[0;34m[\u001b[0m\u001b[0;36m0\u001b[0m\u001b[0;34m]\u001b[0m\u001b[0;34m\u001b[0m\u001b[0m\n\u001b[0m\u001b[1;32m      4\u001b[0m \u001b[0m_view\u001b[0m\u001b[0;34m.\u001b[0m\u001b[0mstart_data_fetch\u001b[0m\u001b[0;34m(\u001b[0m\u001b[0;34m)\u001b[0m\u001b[0;34m\u001b[0m\u001b[0m\n\u001b[1;32m      5\u001b[0m \u001b[0;34m\u001b[0m\u001b[0m\n",
      "\u001b[0;31mNameError\u001b[0m: name 'instance' is not defined"
     ]
    }
   ],
   "source": [
    "# Notebook support\n",
    "# setup \n",
    "_view = instance.get_views(name=\"soupActive\")[0]\n",
    "_view.start_data_fetch()\n",
    "\n",
    "@catchInterrupt\n",
    "def server_soup():\n",
    "    while True:\n",
    "        view_tuples = _view.fetch_tuples(max_tuples=100, timeout=2)\n",
    "        for soup_tuple in view_tuples:\n",
    "            status_widget.value = soup_tuple['title']\n",
    "            display_image(soup_tuple, image_region=image_widget, title_region=title_widget, url_region=url_widget)\n",
    "\n",
    "server_soup()\n"
   ]
  },
  {
   "cell_type": "code",
   "execution_count": null,
   "metadata": {},
   "outputs": [],
   "source": []
  },
  {
   "cell_type": "code",
   "execution_count": null,
   "metadata": {},
   "outputs": [],
   "source": []
  }
 ],
 "metadata": {
  "kernelspec": {
   "display_name": "Python 3",
   "language": "python",
   "name": "python3"
  },
  "language_info": {
   "codemirror_mode": {
    "name": "ipython",
    "version": 3
   },
   "file_extension": ".py",
   "mimetype": "text/x-python",
   "name": "python",
   "nbconvert_exporter": "python",
   "pygments_lexer": "ipython3",
   "version": "3.5.4"
  }
 },
 "nbformat": 4,
 "nbformat_minor": 2
}
