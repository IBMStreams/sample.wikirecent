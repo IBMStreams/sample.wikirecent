{
 "cells": [
  {
   "cell_type": "markdown",
   "metadata": {},
   "source": [
    "# VideoRcvKafka\n",
    "The producer (VideoSendKafka.py) is sending video frames on the TOPIC,consume and render\n",
    "the frames as they arrive. The frames are encoded and broken up into chunks.\n",
    "\n",
    "Demotrate that we can send encoded images "
   ]
  },
  {
   "cell_type": "code",
   "execution_count": null,
   "metadata": {},
   "outputs": [],
   "source": [
    "import kafka\n",
    "import os\n",
    "import getpass\n",
    "import sys\n",
    "import json\n",
    "import base64\n",
    "import kafka\n",
    "import ssl\n",
    "import time\n",
    "import datetime\n",
    "import matplotlib.pyplot as plt\n",
    "import io\n",
    "from PIL import Image\n",
    "import logging\n",
    "import numpy as np\n",
    "import cv2\n",
    "import matplotlib.pyplot as plt\n",
    "import ipywidgets as widgets\n",
    "from ipywidgets import Button, HBox, VBox, Layout\n",
    "from IPython.display import display, clear_output\n",
    "\n",
    "if '../jupyter' not in sys.path:\n",
    "    sys.path.insert(0, '../jupyter')\n",
    "import credential"
   ]
  },
  {
   "cell_type": "code",
   "execution_count": null,
   "metadata": {},
   "outputs": [],
   "source": [
    "## setup \n",
    "\n",
    "TOPIC = 'VideoFrame'\n",
    "\n",
    "def decode_img(bin64):\n",
    "    img = Image.open(io.BytesIO(base64.b64decode(bin64)))\n",
    "    return img"
   ]
  },
  {
   "cell_type": "markdown",
   "metadata": {},
   "source": [
    "## Get the credentials."
   ]
  },
  {
   "cell_type": "code",
   "execution_count": null,
   "metadata": {},
   "outputs": [],
   "source": [
    "creds = json.loads(credential.magsEventStream)"
   ]
  },
  {
   "cell_type": "markdown",
   "metadata": {},
   "source": [
    "## Kafka arrive, decode and display\n",
    "The producer (VideoSendKafka.py) is sending video frames on the TOPIC, here consume and write\n",
    "the frames as they arrive. "
   ]
  },
  {
   "cell_type": "code",
   "execution_count": null,
   "metadata": {},
   "outputs": [],
   "source": [
    "img_obj = widgets.Output(layout={'border': '1px solid red','width':'50%','height':'300pt'})\n",
    "dashboard_img = widgets.VBox([img_obj])\n",
    "display(dashboard_img)\n",
    "\n",
    "\n",
    "cons = kafka.KafkaConsumer(TOPIC, \n",
    "                              bootstrap_servers=creds[\"kafka_brokers_sasl\"],\n",
    "                              security_protocol=\"SASL_SSL\",\n",
    "                              sasl_mechanism=\"PLAIN\",\n",
    "                                   sasl_plain_username=creds[\"user\"],\n",
    "                                   sasl_plain_password=creds[\"api_key\"],\n",
    "                                   ssl_cafile=ssl.get_default_verify_paths().cafile, consumer_timeout_ms=30000)\n",
    "\n",
    "start = time.time()\n",
    "logging.getLogger(\"__name__\").warning(\"start\")\n",
    "startup = True     # get to begining of frame at startup.\n",
    "for msg in cons:\n",
    "    chunk = json.loads(msg[6])\n",
    "    if startup: \n",
    "        if chunk['chunk_idx'] != 0:\n",
    "            continue\n",
    "        startup = False\n",
    "    if chunk['chunk_idx'] == 0:\n",
    "        # start of a new frame.\n",
    "        image_string = chunk['data']\n",
    "        continue\n",
    "    if chunk['chunk_idx'] == chunk['chunk_total']:\n",
    "        # frame complete - convert to image and display\n",
    "        image = decode_img(image_string)\n",
    "        with img_obj:\n",
    "            display(image)\n",
    "            clear_output(wait=True)\n",
    "        chunk_string = \"\"\n",
    "        continue\n",
    "    # building up frame\n",
    "    image_string = \"\".join([image_string, chunk['data']])    \n",
    "    \n",
    "    \n",
    "    print(\"message cnt:\", len(chunks))\n",
    "cons.close()\n",
    "logging.getLogger(\"__name__\").warning(\"done\")\n"
   ]
  },
  {
   "cell_type": "code",
   "execution_count": null,
   "metadata": {},
   "outputs": [],
   "source": []
  }
 ],
 "metadata": {
  "kernelspec": {
   "display_name": "Python 3",
   "language": "python",
   "name": "python3"
  },
  "language_info": {
   "codemirror_mode": {
    "name": "ipython",
    "version": 3
   },
   "file_extension": ".py",
   "mimetype": "text/x-python",
   "name": "python",
   "nbconvert_exporter": "python",
   "pygments_lexer": "ipython3",
   "version": "3.6.9"
  }
 },
 "nbformat": 4,
 "nbformat_minor": 2
}
