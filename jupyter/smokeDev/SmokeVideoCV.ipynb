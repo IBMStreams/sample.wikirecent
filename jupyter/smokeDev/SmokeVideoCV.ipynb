{
 "cells": [
  {
   "cell_type": "markdown",
   "metadata": {},
   "source": [
    "## SmokeVideoCV\n",
    "This notebook explores streaming videos from the [Internet Archive](https://archive.org/). \n",
    "- connect to video\n",
    "- pull frame \n",
    "- analize frame for faces\n",
    "- inscribe box around face\n",
    "\n",
    "Verify that it's possible to get all the frames from an video, over the web. Answer - yes.\n",
    "\n",
    "\n",
    "next step: move the processing to Streams. The processing will leverage off the [imgAna_OpenCV](imgAna_OpenCV.jupyter-py36.ipynb) notebook, which analysis images submitted to Wikipedia."
   ]
  },
  {
   "cell_type": "code",
   "execution_count": null,
   "metadata": {},
   "outputs": [],
   "source": [
    "import matplotlib.pyplot as plt\n",
    "%matplotlib inline\n",
    "import numpy as np\n",
    "import cv2\n",
    "from PIL import Image,  ImageDraw  # https://pillow.readthedocs.io/en/4.3.x/\n",
    "import matplotlib.pyplot as plt\n",
    "import ipywidgets as widgets\n",
    "from ipywidgets import Button, HBox, VBox, Layout\n",
    "from IPython.display import display, clear_output\n",
    "from PIL import Image\n",
    "\n",
    "def convertToRGB(image):\n",
    "    return cv2.cvtColor(image, cv2.COLOR_BGR2RGB)\n",
    "#plt.imshow(convertToRGB(img_raw))\n",
    "\n",
    "def convertToBW(image):\n",
    "    return cv2.cvtColor(image, cv2.COLOR_BGR2GRAY)\n"
   ]
  },
  {
   "cell_type": "code",
   "execution_count": null,
   "metadata": {},
   "outputs": [],
   "source": [
    "## setup for image analysis...\n",
    "\n",
    "haar_cascade_face = cv2.CascadeClassifier('../datasets/haarcascade_frontalface_default.xml')\n",
    "haar_cascade_face\n"
   ]
  },
  {
   "cell_type": "code",
   "execution_count": null,
   "metadata": {},
   "outputs": [],
   "source": [
    "def line_box(ele):\n",
    "    (x,y,w,h)=ele\n",
    "    return (x,y, x+w,y, x+w,y+h, x,y+w, x,y)\n",
    "\n",
    "def bts_to_img(bts):\n",
    "    '''\n",
    "    :param bts: results from image_to_bts\n",
    "    '''\n",
    "    buff = np.fromstring(bts, np.uint8)\n",
    "    buff = buff.reshape(1, -1)\n",
    "    img = cv2.imdecode(buff, cv2.IMREAD_COLOR)\n",
    "    return img\n",
    "\n",
    "def inscribe_rect(bin_image, detection_box):\n",
    "    \"\"\"Inscribe box on image\n",
    "    \n",
    "    This is updating the image passed in.\n",
    "    \n",
    "    Args:\n",
    "        bin_image : binary image\n",
    "        detection_box : region to put box around\n",
    "    Return:\n",
    "        return image - \n",
    "    \"\"\"\n",
    "    draw = ImageDraw.Draw(bin_image) \n",
    "    box_width = 10 \n",
    "    draw.line(line_box(detection_box), fill=\"yellow\", width=box_width)\n",
    "    return bin_image"
   ]
  },
  {
   "cell_type": "code",
   "execution_count": null,
   "metadata": {},
   "outputs": [],
   "source": [
    "\n",
    "# https://github.com/nasa/ISS_Camera_Geolocate.git\n",
    "frame_internal = 10\n",
    "minimum_faces_per_frame = 1\n",
    "video_selection_url = 3\n",
    "\n",
    "url = ['https://www.sample-videos.com/video123/mp4/720/big_buck_bunny_720p_1mb.mp4',\n",
    "'https://archive.org/download/popeye_shuteye_popeye/popeye_shuteye_popeye_512kb.mp4',\n",
    "'https://archive.org/download/MuhammadAliVsSonnyListon/MuhammadAliVsSonnyListon_512kb.mp4',\n",
    "'https://archive.org/download/bb_snow_white/bb_snow_white_512kb.mp4',\n",
    "'https://archive.org/download/TuringTe2001/TuringTe2001_256kb.mp4']\n",
    "\n",
    "cap = cv2.VideoCapture(url[video_selection_url])\n",
    "\n",
    "def rects_render(image, rects):\n",
    "    image_copy = image.copy()\n",
    "    for (x, y, w, h) in rects:\n",
    "        cv2.rectangle(image_copy, (x, y), (x+w, y+h), (0, 255, 0), 2)\n",
    "    return image_copy\n",
    "\n",
    "demo_widget = widgets.Output(layout={'border': '1px solid green'})\n",
    "display(demo_widget)\n",
    "count = 0\n",
    "while(cap.isOpened()):\n",
    "    ret, frame = cap.read()\n",
    "    if ret is False:\n",
    "        break\n",
    "    count += 1\n",
    "    if not(count % frame_internal):\n",
    "        gray = cv2.cvtColor(frame, cv2.COLOR_BGR2GRAY)\n",
    "        faces_rects = haar_cascade_face.detectMultiScale(gray, scaleFactor = 1.2, minNeighbors = 5); \n",
    "        if len(faces_rects) >= minimum_faces_per_frame:\n",
    "            with Image.fromarray(frame) as bin_image:\n",
    "                for rect in faces_rects:\n",
    "                    inscribe_rect(bin_image, rect)\n",
    "            with demo_widget:\n",
    "                display(bin_image)\n",
    "                clear_output(wait=True)\n",
    "\n",
    "    if cv2.waitKey(1) & 0xFF == ord('q'):\n",
    "        break\n",
    "\n",
    "cap.release()\n",
    "cv2.destroyAllWindows()"
   ]
  },
  {
   "cell_type": "markdown",
   "metadata": {},
   "source": [
    "## Find videos on the internet archive.....\n",
    "\n",
    "Pulling videos from the video page, example :\n",
    "- goto cartool page : cartoons : [cartoons videos](https://archive.org/details/animationandcartoons?and[]=mediatype%3A%22movies%22)\n",
    "- select a cartoon - take you to new page.\n",
    "- In 'DOWNLOAD OPTIONS\" right click the 'MPEG..' select - 'Copy Link Location\". This will copy the the link into the paste buffer this send it to the application....."
   ]
  }
 ],
 "metadata": {
  "kernelspec": {
   "display_name": "Python 3",
   "language": "python",
   "name": "python3"
  },
  "language_info": {
   "codemirror_mode": {
    "name": "ipython",
    "version": 3
   },
   "file_extension": ".py",
   "mimetype": "text/x-python",
   "name": "python",
   "nbconvert_exporter": "python",
   "pygments_lexer": "ipython3",
   "version": "3.6.9"
  }
 },
 "nbformat": 4,
 "nbformat_minor": 2
}
