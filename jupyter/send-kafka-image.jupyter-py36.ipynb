{
 "cells": [
  {
   "cell_type": "code",
   "execution_count": null,
   "metadata": {},
   "outputs": [],
   "source": [
    "!pip install kafka-python"
   ]
  },
  {
   "cell_type": "code",
   "execution_count": null,
   "metadata": {},
   "outputs": [],
   "source": [
    "import os\n",
    "import getpass\n",
    "import sys\n",
    "import json\n",
    "import base64\n",
    "import kafka\n",
    "import ssl\n",
    "import time\n",
    "import datetime\n",
    "import matplotlib.pyplot as plt\n",
    "import io\n",
    "from PIL import Image\n",
    "\n",
    "TEST_CAMERA_INPUT_EVENTSTREAMS_TOPIC = 'TestCameraInput'\n",
    "TEST_CAMERA_ID = \"TestCamera-0\"\n",
    "count = 0"
   ]
  },
  {
   "cell_type": "code",
   "execution_count": null,
   "metadata": {},
   "outputs": [],
   "source": [
    "creds_string = getpass.getpass()\n",
    "creds = json.loads(creds_string)\n"
   ]
  },
  {
   "cell_type": "code",
   "execution_count": null,
   "metadata": {},
   "outputs": [],
   "source": [
    "# Connect to EventStreams, with our loaded credentials and attach to the requested Topic.\n",
    "prod = None\n",
    "while prod is None:\n",
    "    try:\n",
    "        prod = kafka.KafkaProducer(bootstrap_servers=creds[\"kafka_brokers_sasl\"], \\\n",
    "                                   security_protocol=\"SASL_SSL\", \\\n",
    "                                   sasl_mechanism=\"PLAIN\", \\\n",
    "                                   sasl_plain_username=creds[\"user\"], \\\n",
    "                                   sasl_plain_password=creds[\"api_key\"], \\\n",
    "                                   ssl_cafile=ssl.get_default_verify_paths().cafile)\n",
    "\n",
    "    except kafka.errors.NoBrokersAvailable:\n",
    "        print(\"No Brokers Available. Retrying ...\")\n",
    "        time.sleep(1)\n",
    "        prod = None\n"
   ]
  },
  {
   "cell_type": "code",
   "execution_count": null,
   "metadata": {},
   "outputs": [],
   "source": [
    "with open(os.environ.get(\"DSX_PROJECT_DIR\") + \"/datasets/extra-testing/multi_color-7.png\", \"rb\") as f:\n",
    "    img = f.read()\n"
   ]
  },
  {
   "cell_type": "code",
   "execution_count": null,
   "metadata": {},
   "outputs": [],
   "source": [
    "fi = io.BytesIO(img)\n",
    "oi = Image.open(fi)\n",
    "\n",
    "plt.close()\n",
    "plt.imshow(oi)\n",
    "plt.title(\"Original Image\")\n",
    "plt.show()\n",
    "\n",
    "oi.close()\n"
   ]
  },
  {
   "cell_type": "code",
   "execution_count": null,
   "metadata": {},
   "outputs": [],
   "source": [
    "val = {\n",
    "    'camera': TEST_CAMERA_ID,\n",
    "    'count': count,\n",
    "    'timestamp': datetime.datetime.utcnow().isoformat() + 'Z',\n",
    "    'image': base64.b64encode(img).decode('utf-8')\n",
    "}\n",
    "count += 1\n",
    "\n",
    "prod.send(TEST_CAMERA_INPUT_EVENTSTREAMS_TOPIC, value=json.dumps(val).encode('utf-8'))\n"
   ]
  },
  {
   "cell_type": "code",
   "execution_count": null,
   "metadata": {},
   "outputs": [],
   "source": []
  }
 ],
 "metadata": {
  "kernelspec": {
   "display_name": "Python3.6",
   "language": "python",
   "name": "python3"
  },
  "language_info": {
   "codemirror_mode": {
    "name": "ipython",
    "version": 3
   },
   "file_extension": ".py",
   "mimetype": "text/x-python",
   "name": "python",
   "nbconvert_exporter": "python",
   "pygments_lexer": "ipython3",
   "version": "3.6.7"
  }
 },
 "nbformat": 4,
 "nbformat_minor": 2
}
