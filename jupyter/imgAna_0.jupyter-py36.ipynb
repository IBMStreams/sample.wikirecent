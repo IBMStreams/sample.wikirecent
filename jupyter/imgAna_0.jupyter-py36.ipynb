{
 "cells": [
  {
   "cell_type": "markdown",
   "metadata": {
    "pycharm": {}
   },
   "source": [
    "\n",
    "# 0 : Real-time analysis of wikipedia updates\n",
    "This notebook is the first in a series showing the progression of a developer or data professional with developer skills moving from data exploration, via modular application building, to delivering consumable visualizations on Machine Learning-based analysis.\n",
    "\n",
    "- Data exploration in pure python\n",
    "- Data aggregation and filtering\n",
    "- Data windowing\n",
    "- Data extraction\n",
    "- Image analysis\n",
    "\n",
    "We are exploring a publicly available and accessible streaming data source from mediawiki.org. MediaWiki is a free and open-source software package written in PHP, originally for use on Wikipedia. The website maintained to promote this open-source offering offers an accessible feed of changes to all of the pages and assets that make it up. People editing MediaWiki pages are around the world, working in different languages."
   ]
  },
  {
   "cell_type": "markdown",
   "metadata": {
    "pycharm": {}
   },
   "source": [
    "# Streaming data exploration\n",
    "\n",
    "Data science projects commonly start with a data set with defined characteristcs. A data professional will explore the data and assess it for completeness, quality, and relevance to the project purpose.\n",
    "\n",
    "For streaming data, the process is similar even though the actual data elements are constantly changing. This notebook shows those first exploration steps to allow a data professional to understand the data they are presented with for analysis.\n",
    "\n",
    "The specification of the mediawiki feed can be found here. https://wikitech.wikimedia.org/wiki/Event_Platform/EventStreams\n",
    "\n",
    "The data is streamed using the Server-Sent Events (SSE) protocol. This is similar in some respects to Websockets, but SSE is one-way only and uses HTTP as the transport. \n",
    "\n",
    "The feed itself is available here: https://stream.wikimedia.org/v2/stream/recentchange\n",
    "\n",
    "In this exploration phase we are using Python in a Jupyter notebook. In later steps the code we develop here will become the seed for our Streams application."
   ]
  },
  {
   "cell_type": "code",
   "execution_count": 6,
   "metadata": {
    "pycharm": {
     "is_executing": false
    }
   },
   "outputs": [],
   "source": [
    "!pip install SSEClient===0.0.22 --upgrade --user"
   ]
  },
  {
   "cell_type": "code",
   "execution_count": 1,
   "metadata": {
    "pycharm": {
     "is_executing": false
    }
   },
   "outputs": [],
   "source": [
    "from IPython.display import display, clear_output\n",
    "from sseclient import SSEClient as EventSource\n",
    "import time\n",
    "import json\n",
    "from statistics import mean\n",
    "from collections import deque\n",
    "import pandas as pd\n",
    "import matplotlib.pyplot as plt\n",
    "pd.set_option('display.width', 160)    # Keep dataframe print output from wrapping\n",
    "\n",
    "%matplotlib inline"
   ]
  },
  {
   "cell_type": "markdown",
   "metadata": {
    "pycharm": {}
   },
   "source": [
    "### Define functions and helpers to use for data exploration"
   ]
  },
  {
   "cell_type": "code",
   "execution_count": 2,
   "metadata": {
    "pycharm": {
     "is_executing": false
    }
   },
   "outputs": [],
   "source": [
    "# This is the core function for tapping into the feed\n",
    "def get_events(url=\"https://stream.wikimedia.org/v2/stream/recentchange\"):\n",
    "    \"\"\"Fetch recent changes from wikievents site using SSE.\"\"\"\n",
    "    for change in EventSource(url):         # for each change record in this fetch\n",
    "        if len(change.data):                # if the change contains any data\n",
    "            yield json.loads(change.data)   # return it as a json object\n",
    "                 \n",
    "def catchInterrupt(func):\n",
    "    \"\"\"Decorator: Catch keyboard interrupt to avoid losing the display.\n",
    "       TODO * <view>.stop_data_fetch()  # stop\n",
    "    \"\"\"\n",
    "    def catch_interrupt(*args, **kwargs):\n",
    "        try: \n",
    "            func(*args, **kwargs)\n",
    "        except (KeyboardInterrupt):\n",
    "            pass\n",
    "\n",
    "    return catch_interrupt\n",
    "\n",
    "@catchInterrupt\n",
    "def sample_events(wait_between=5, iterations=1):\n",
    "    \"\"\"Fetch events from Wikipedia, display and repeat. \n",
    "    NOTE: \n",
    "        Helper to look at the raw feed, with this you can see all the fields returned\n",
    "    Args:\n",
    "        - wait_between : seconds to wait between samples\n",
    "        - iterations   : number of iterations, < 0 = infinite\n",
    "    \"\"\"\n",
    "    for evt in get_events():\n",
    "        if iterations == 0: break\n",
    "        iterations -= 1\n",
    "        print(json.dumps(evt, indent=1, sort_keys=True))\n",
    "        time.sleep(wait_between)\n",
    "        clear_output(wait=True)"
   ]
  },
  {
   "cell_type": "markdown",
   "metadata": {
    "pycharm": {}
   },
   "source": [
    "The next cell displays a subset of the fields that are available. Invoking\n",
    "`sample_events()` will return the full complement of fields. "
   ]
  },
  {
   "cell_type": "code",
   "execution_count": 3,
   "metadata": {
    "pycharm": {
     "is_executing": false
    }
   },
   "outputs": [
    {
     "name": "stdout",
     "output_type": "stream",
     "text": [
      "         type    bot             user          wiki                                     title\n",
      "0        edit   True      Edoderoobot  wikidatawiki                                 Q96001887\n",
      "1  categorize   True    SchlurcherBot   commonswiki        Category:Template Unknown (author)\n",
      "2        edit   True   GZWDer (flood)  wikidatawiki                                 Q37220421\n",
      "3        edit  False     Research Bot  wikidatawiki                                 Q58763296\n",
      "4        edit   True  Github-wiki-bot  wikidatawiki                                 Q95970140\n",
      "5        edit   True   GZWDer (flood)  wikidatawiki                                 Q41359322\n",
      "6        edit   True         SuccuBot  wikidatawiki                                 Q13551917\n",
      "7  categorize  False              ŠJů   commonswiki  Category:Stairways in Petrovice (Prague)\n",
      "8  categorize  False              ŠJů   commonswiki         Category:Outside stairs in Prague\n",
      "9         new   True         NewsBots    ruwikinews                               Ортём (имя)\n"
     ]
    }
   ],
   "source": [
    "@catchInterrupt\n",
    "def table_events(chunk_size=10, column_keys=[], iterations=10):\n",
    "    \"\"\"Display selected columns in a table, chunk_size rows at a time.\n",
    "    Args:\n",
    "        - column_keys : columns to display\n",
    "        - chunk_size  : number of rows to show at a time\n",
    "        - iterations  : number of times to loop, <=0 is infinite\n",
    "    \"\"\"\n",
    "    while iterations != 0:\n",
    "        lst = []\n",
    "        iterations -= 1\n",
    "        for evt in get_events():\n",
    "            lst.append(evt)\n",
    "            if len(lst) >= chunk_size: break\n",
    "        dList = pd.DataFrame(lst)\n",
    "        print(dList[column_keys])\n",
    "        clear_output(wait=True)\n",
    "        \n",
    "table_events(column_keys=[\"type\", \"bot\", \"user\", \"wiki\", \"title\"])"
   ]
  },
  {
   "cell_type": "markdown",
   "metadata": {
    "pycharm": {}
   },
   "source": [
    "## Focus on event type\n",
    "\n",
    "Events are characterized with the possible values of: new, edit, catagorize, and log. \n",
    "We'll drill down into event types arriving, showing the counts for a chunk of 20 events and averaging over\n",
    "5 chunks. \n"
   ]
  },
  {
   "cell_type": "code",
   "execution_count": 4,
   "metadata": {
    "pycharm": {
     "is_executing": false
    }
   },
   "outputs": [],
   "source": [
    "# Aggregate over collections (\"chunks\") of rows by category\n",
    "\n",
    "class chunking_average:\n",
    "    \"\"\"Aggregate (take the mean of) values over a sliding window\n",
    "    of counts per category.\n",
    "    \"\"\"\n",
    "    \n",
    "    def __init__(self, init_base, mean_elements=20):\n",
    "        \"\"\"Initialize chunking_average object with counts of zero\n",
    "        for each of the categories indicated in init_base.\n",
    "        \n",
    "        Args:\n",
    "        - init_base     : dict whose keys indicate the categories to be\n",
    "                          aggregated separately (values are ignored)\n",
    "        - mean_elements : size of the chunk over which to take the mean\n",
    "        \"\"\"\n",
    "        \n",
    "        # For each category, maintain a deque containing the last mean_elements\n",
    "        # counts. This represents a sliding window: once the deque is full, each\n",
    "        # new addition drops the oldest entry.\n",
    "        self.deques = {key:deque([0],maxlen=mean_elements) for key in init_base.keys()}\n",
    "\n",
    "    def aggregate(self, chunk):\n",
    "        \"\"\"Perform the aggregation (calculate the mean) over the current sliding window\n",
    "        \n",
    "        Args:\n",
    "        - chunk : dict of category:count pairs. Counts (values) are appended to the\n",
    "                  deque for each category (key), potentially dropping the oldest elements\n",
    "        \n",
    "        Returns: dict of category:average-count, with the average computed over the accumulated\n",
    "                 counts for each category (the sliding window), including the current addition\n",
    "        \"\"\"\n",
    "        \n",
    "        for key in self.deques.keys():\n",
    "            if self.deques[key] and chunk[key]: self.deques[key].append(chunk[key])\n",
    "        \n",
    "        return {key:mean(self.deques[key]) for key in self.deques.keys()}"
   ]
  },
  {
   "cell_type": "code",
   "execution_count": 5,
   "metadata": {
    "pycharm": {
     "is_executing": false
    }
   },
   "outputs": [
    {
     "data": {
      "image/png": "[encoded data removed]",
      "text/plain": [
       "<Figure size 432x288 with 1 Axes>"
      ]
     },
     "metadata": {
      "needs_background": "light"
     },
     "output_type": "display_data"
    }
   ],
   "source": [
    "# tally the types\n",
    "\n",
    "@catchInterrupt\n",
    "def graph_type(events_window=20, average_windows=5, iterations=5):\n",
    "    \"\"\"Display a graph of counts per event type, for the current \"chunk\"\n",
    "    and as an average over the last several chunks. \n",
    "    \n",
    "    Args:\n",
    "        - events_window   : number of events within a chunk\n",
    "        - average_windows : number of chunks to average (length of a sliding window)\n",
    "        - iterations      : number of times through this process after filling the sliding window\n",
    "    \"\"\"\n",
    "    \n",
    "    iterations += average_windows\n",
    "    cnt = dict({\"new\":0, \"edit\":0, \"categorize\":0,\"log\":0})\n",
    "    run_avg = chunking_average(cnt)\n",
    "    print(\"Window countdown ...\")\n",
    "\n",
    "    while iterations != 0:\n",
    "        iterations -= 1\n",
    "\n",
    "        # Accumulate a chunk's worth of events\n",
    "        # and accumulate counts per event type\n",
    "        for evt in get_events():\n",
    "            if evt['type'] in cnt:\n",
    "                cnt[evt['type']] += 1\n",
    "                if sum(cnt.values()) >= events_window: break\n",
    "\n",
    "        # Add the current chunk stats to the sliding window\n",
    "        avg = run_avg.aggregate(cnt)\n",
    "        clear_output(wait=True)\n",
    "\n",
    "        # If the sliding window is full, show results as iteration continues\n",
    "        if average_windows <= 0:\n",
    "            nam_list = cnt.keys()\n",
    "            evt_list = [cnt[key] for key in nam_list]\n",
    "            avg_list = [avg[key] for key in nam_list]\n",
    "            df = pd.DataFrame({'count': evt_list, 'running avg': avg_list}, index=nam_list)\n",
    "            df.plot.bar(rot=0)\n",
    "            plt.show()\n",
    "        else:      # Otherwise, keep accumulating counts until the window is full\n",
    "            print(\"Window countdown ... {}\".format(average_windows))\n",
    "            average_windows -= 1\n",
    "\n",
    "        cnt = {key:0 for key in cnt}\n",
    "\n",
    "graph_type()"
   ]
  },
  {
   "cell_type": "markdown",
   "metadata": {
    "pycharm": {}
   },
   "source": [
    "## Notebook wrapup"
   ]
  },
  {
   "cell_type": "markdown",
   "metadata": {
    "pycharm": {}
   },
   "source": [
    "With this notebook we've accessed live Wikipedia data, done rudimentary calculations, and graphed it.\n",
    "Since all the components are in a notebook, data is only collected while the notebook is open, which \n",
    "provides only limited insight into what is happening. \n",
    "\n",
    "Collecting the data continuously is the next phase. In addition to the collecting we'll do some intial processing \n",
    "of the live data to make it more consumable. \n"
   ]
  }
 ],
 "metadata": {
  "kernelspec": {
   "display_name": "Python 3",
   "language": "python",
   "name": "python3"
  },
  "language_info": {
   "codemirror_mode": {
    "name": "ipython",
    "version": 3
   },
   "file_extension": ".py",
   "mimetype": "text/x-python",
   "name": "python",
   "nbconvert_exporter": "python",
   "pygments_lexer": "ipython3",
   "version": "3.6.10"
  }
 },
 "nbformat": 4,
 "nbformat_minor": 2
}
