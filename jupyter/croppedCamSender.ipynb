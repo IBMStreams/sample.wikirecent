{
 "cells": [
  {
   "cell_type": "markdown",
   "metadata": {},
   "source": [
    "# Cropped Cam Sender\n",
    "\n",
    "Grab video from a webcam, crop the frames, render and send, this commuicates to the Streams application via Kafka.\n",
    "\n",
    "## Overview \n",
    "\n",
    "The file sends frames via the Kafka to the Streams application. One problem with demoning Streams has always been accesing live timly content. Video actually, WebCam video is a great source of such content, it's live, it's timely \n",
    "and it's ubiquitous. This notebook had a number of WebCam collections that we are used to provide video frames\n",
    "to the Streams application that processes.\n",
    "\n",
    "Their is no Streams code in this notebook, images are transmitted via Kafka. This notebook focusus on shredding the WebCam video, cropping it and sending it via Kafka. \n",
    "\n",
    "This file includes a section on setting up a MessageHub instance on the cloud to move the video datas\n",
    "\n",
    "\n",
    "### Extras - \n",
    "The [croppedCamSender](croppedCamSender.ipynb) walks though pulling frames from internet webcams. Much more interesting than static files videos from the internet archive."
   ]
  },
  {
   "cell_type": "markdown",
   "metadata": {},
   "source": [
    "## Prerequisites \n",
    "\n",
    "This file requires the prerequites described in [README](/README.jupyter-py36.ipynb) be satisfied before procedi\n"
   ]
  },
  {
   "cell_type": "code",
   "execution_count": 1,
   "metadata": {},
   "outputs": [],
   "source": [
    "import string\n",
    "import os\n",
    "import sys\n",
    "import json\n",
    "import base64\n",
    "import ssl\n",
    "import time\n",
    "import datetime\n",
    "import io\n",
    "import logging\n",
    "import re\n",
    "import collections\n",
    "import threading\n",
    "\n",
    "import cv2\n",
    "import requests\n",
    "import urllib\n",
    "import m3u8\n",
    "from urllib.parse import urlparse\n",
    "from PIL import Image\n",
    "import numpy as np\n",
    "\n",
    "import matplotlib.pyplot as plt\n",
    "import ipywidgets as widgets\n",
    "from IPython.display import clear_output\n",
    "\n",
    "from interactivecrop.interactivecrop import main as crop\n",
    "\n",
    "if '../scripts' not in sys.path:\n",
    "    sys.path.insert(0, '../scripts')\n",
    "\n",
    "import stream_video as video\n",
    "import credential"
   ]
  },
  {
   "cell_type": "markdown",
   "metadata": {},
   "source": [
    "## Tutorials \n",
    "A very good walk through on the .m3u8 files that index .ts files that have \n",
    "the vido chunks that we need \n",
    "\n",
    "https://www.youtube.com/watch?v=bytnxnZFLeg\n",
    "\n",
    "This is the cropping tool...\n",
    "\n",
    "https://openbits.app/posts/python-interactive-cropping/\n"
   ]
  },
  {
   "cell_type": "markdown",
   "metadata": {},
   "source": [
    "## test file access\n",
    "The .ts files have the images to analyize. You need to walk through the index to get to the data. Mulitple index formats. Not sure if thier standard method for the schema, may make it too easy to 'borrow' someone ele's content.\n"
   ]
  },
  {
   "cell_type": "markdown",
   "metadata": {},
   "source": [
    "\"blob:https://www.earthcam.com/00631398-95e6-40df-9d75-71501c1a6da6\"\n",
    "\n",
    "<video muted=\"muted\" crossorigin=\"anonymous\" id=\"videoPlayer_html5_api\" class=\"vjs-tech\" preload=\"none\" style=\"position: absolute\" tabindex=\"-1\" src=\"blob:https://www.earthcam.com/00631398-95e6-40df-9d75-71501c1a6da6\"></video>\n",
    "\n"
   ]
  },
  {
   "cell_type": "markdown",
   "metadata": {},
   "source": [
    "# Locating chunks of video frames.\n",
    "\n",
    "\n",
    "\n",
    "The live webcams have a hierachy of files that terminates with files with chunks of frames, .ts files. \n",
    "The deepest .m3u8 will be updated with every new chunk's arrival. Work your way down to the lowests m3u8 file handle, this file is newly captured .ts files, it gets rewritten with new video chunks arrive. \n",
    "\n",
    "\n",
    "##  examples\n",
    "\n",
    "Below is collection of sites that we can fetch video via .m3u8 that reference .ts files. "
   ]
  },
  {
   "cell_type": "markdown",
   "metadata": {},
   "source": [
    "### whatsupcams \n",
    "\n",
    "The standard process is to find a webcam that you are interested in getting the contents from, using \n",
    "Chome to look a the network traffic looking for files being fetched that end inf '.m3u8', repeatily. \n",
    "Look at the preview, you have the correct file if you see content refering to .ts files like this...\n",
    "```text\n",
    "#EXTM3U\n",
    "#EXT-X-VERSION:3\n",
    "#EXT-X-MEDIA-SEQUENCE:4982\n",
    "#EXT-X-TARGETDURATION:12\n",
    "#EXTINF:11.989,\n",
    "hr_zadar4-4982.ts\n",
    "#EXTINF:11.986,\n",
    "hr_zadar4-4983.ts\n",
    "#EXTINF:11.989,\n",
    "hr_zadar4-4984.ts\n",
    "```\n",
    "\n",
    "\n",
    "Capture the url link to the file in chrome and past into M3U8 variable in below. \n",
    "https://cdn-004.whatsupcams.com/hls/hr_zadar4.m3u8\n",
    "\n",
    "Below you will find the video link and M3U8 for webcam at different sites\n",
    "\n",
    "\n",
    "| url | M3U8 |\n",
    "|:-----|:-----|\n",
    "|https://www.whatsupcams.com/en/webcams/croatia/zadar/zadar/zadar-narodni-trg-peoples-square/| https://cdn-004.whatsupcams.com/hls/hr_zadar4.m3u8|\n",
    "| https://www.whatsupcams.com/en/webcams/italy/veneto/venice/webcam-venice-rialto-bridge/ | https://cdn-001.whatsupcams.com/hls/it_venezia01.m3u8| \n",
    "| https://www.whatsupcams.com/en/webcams/croatia/zadar/zadar/zadar-trg-petra-zoranica/ | https://cdn-001.whatsupcams.com/hls/hr_zadar3.m3u8 |\n",
    "\n",
    "        "
   ]
  },
  {
   "cell_type": "markdown",
   "metadata": {},
   "source": [
    "### caltrans\n",
    "\n",
    "| url | M3U8 |\n",
    "|:-----|:-----|\n",
    "|http://cwwp2.dot.ca.gov/vm/loc/d4/tv388sr1justsouthofpresidiotunnel.htm| http://wzmedia.dot.ca.gov/D4/N1_at_Presidio_Tunnel.stream/chunklist_w665039362.m3u8 |\n",
    "| http://cwwp2.dot.ca.gov/vm/loc/d4/tv457sr92elcaminoreal.htm | http://wzmedia.dot.ca.gov/D4/W92_at_El_Camino_Real.stream/chunklist_w2118793021.m3u8 |\n",
    "|http://cwwp2.dot.ca.gov/vm/loc/d4/tve83us101i580.htm | http://wzmedia.dot.ca.gov/D4/N101_at_580.stream/chunklist_w987073694.m3u8 |\n",
    "| http://cwwp2.dot.ca.gov/vm/loc/d4/tv302us10117thstreet.htm | http://wzmedia.dot.ca.gov/D4/S101_at_17th_St.stream/chunklist_w1949748683.m3u8 |\n",
    "\n",
    "\n",
    "- Go to the map page, http://cwwp2.dot.ca.gov/vm/iframemap.htm\n",
    "- select a video camera from the map\n",
    "- select 'Open this camera in a bookmark-friendly format\"\n",
    "- Using Chrome, grap URL of opened page, for example (http://cwwp2.dot.ca.gov/vm/loc/d4/tv388sr1justsouthofpresidiotunnel.htm). Access the developer tool (View | Developer | Developer Tools) the  'Network' tab\n",
    " - Find a 'chunklist*.m3u8' file, the contents of which look like.\n",
    " ```\n",
    "#EXTM3U\n",
    "#EXT-X-VERSION:4\n",
    "#EXT-X-TARGETDURATION:11\n",
    "#EXT-X-MEDIA-SEQUENCE:7817\n",
    "#EXTINF:9.61,\n",
    "media_w1296425575_7817.ts\n",
    "#EXTINF:10.677,\n",
    "media_w1296425575_7818.ts\n",
    "#EXTINF:9.61,\n",
    "media_w1296425575_7819.ts\n",
    "```\n",
    "Assign this value to **M3U8** below\n",
    "\n",
    "\n",
    "Notes : \n",
    "- I have found that the caltrans camera are sporatic."
   ]
  },
  {
   "cell_type": "markdown",
   "metadata": {},
   "source": [
    "## Huntington beach \n",
    "This site has multiple cameras on one page, bring up the page in Chrome's \"Network\" developer tab. Find the 'chunklist_\\*.m3u8' file and set it to the **M3U8** file.\n",
    "\n",
    "| url | M3U8 |\n",
    "|:-----|:-----|\n",
    "| https://hbcams.com/ | https://56cdb389b57ec.streamlock.net:1935/live/hbnorth.stream/chunklist_w790486524.m3u8 |\n",
    "| | https://56cdb389b57ec.streamlock.net:1935/live/hbsouth.stream/chunklist_w1444292277.m3u8 |"
   ]
  },
  {
   "cell_type": "markdown",
   "metadata": {},
   "source": [
    "## Misc\n",
    "|Note |url | M3U8 |\n",
    "|:----|:---|:---- |\n",
    "|Golf by the sea |https://www.cbk-haylingisland.com/webcam/ | https://ngx.cr2.streamzilla.xlcdn.com/session/61110a777793643c03cc9b899f57c76c/sz/streamdays/wowza4/live/hayling-kitesurfing/chunklist.m3u8     |"
   ]
  },
  {
   "cell_type": "markdown",
   "metadata": {},
   "source": [
    "# Define cropping region for live video streams\n",
    "\n",
    "The rest of the notebook walks through \n",
    "- collecting some sample frames\n",
    "- selecting frame for cropping \n",
    "- cropping the frame\n",
    "- reviewing the specified cropped region \n",
    "- finally streaming the video and rendering the frames cropped.\n",
    "\n"
   ]
  },
  {
   "cell_type": "markdown",
   "metadata": {},
   "source": [
    "### Assign the url of the chunklist to the  M3U8 varible below. \n",
    "\n",
    "Select the feed that you want to extract frames from by assigning the **M3U8** variable.\n"
   ]
  },
  {
   "cell_type": "code",
   "execution_count": null,
   "metadata": {},
   "outputs": [],
   "source": [
    "camList = [\n",
    "    \"http://wzmedia.dot.ca.gov/D4/N1_at_Presidio_Tunnel.stream/chunklist_w665039362.m3u8\",\n",
    "\"http://wzmedia.dot.ca.gov/D4/W92_at_El_Camino_Real.stream/chunklist_w2118793021.m3u8\",\n",
    "\"http://wzmedia.dot.ca.gov/D4/S101_at_17th_St.stream/chunklist_w1949748683.m3u8\",\n",
    "\"http://wzmedia.dot.ca.gov/D4/N101_at_580.stream/chunklist_w987073694.m3u8\",\n",
    "\"https://56cdb389b57ec.streamlock.net:1935/live/hbnorth.stream/chunklist_w790486524.m3u8\",\n",
    "\"https://56cdb389b57ec.streamlock.net:1935/live/hbnorth.stream/chunklist_w1235916242.m3u8\",\n",
    "\"https://56cdb389b57ec.streamlock.net:1935/live/hbsouth.stream/chunklist_w1444292277.m3u8\",\n",
    "\"https://cdn-004.whatsupcams.com/hls/hr_zadar4.m3u8\",\n",
    "\"https://cdn-001.whatsupcams.com/hls/hr_zadar3.m3u8\",\n",
    "\"https://cdn-001.whatsupcams.com/hls/it_venezia01.m3u8\",\n",
    "\"https://ngx.cr2.streamzilla.xlcdn.com/session/61110a777793643c03cc9b899f57c76c/sz/streamdays/wowza4/live/hayling-kitesurfing/chunklist.m3u8\"\n",
    "          ]           \n",
    "cameraRadio = widgets.RadioButtons(\n",
    "    options=camList,\n",
    "     value=camList[9],\n",
    "    description=\"<b>Select<br>WebCam <br> to <br> Stream</b>\"\n",
    ")\n",
    "display(cameraRadio)\n"
   ]
  },
  {
   "cell_type": "markdown",
   "metadata": {
    "pycharm": {
     "name": "#%% md\n"
    }
   },
   "source": [
    "## Collect a set of sample frames\n",
    "\n",
    "Collect some frames to be used for defining the crop region."
   ]
  },
  {
   "cell_type": "code",
   "execution_count": null,
   "metadata": {
    "pycharm": {
     "name": "#%%\n"
    }
   },
   "outputs": [],
   "source": [
    "M3U8 = cameraRadio.value\n",
    "#cams_chunk_url = M3U8\n",
    "cams_base = video.extract_base(M3U8)\n",
    "CROP_FRAMES = video.collect_frames(M3U8, 2)\n",
    "print(\"\\n\\nCollected {} frames\".format(len(CROP_FRAMES)))"
   ]
  },
  {
   "cell_type": "markdown",
   "metadata": {
    "pycharm": {
     "name": "#%% md\n"
    }
   },
   "source": [
    "## Select a frame to define the crop region\n",
    "\n",
    "### Use  'crop'  button to select the frame"
   ]
  },
  {
   "cell_type": "code",
   "execution_count": null,
   "metadata": {
    "pycharm": {
     "is_executing": true,
     "name": "#%%\n"
    }
   },
   "outputs": [],
   "source": [
    "\n",
    "def frame_selected(idx):\n",
    "    global FRAME_IDX\n",
    "    print(\"Use frame {} to work out cropping region.\".format(idx))\n",
    "    FRAME_IDX = idx\n",
    "    \n",
    "imgsel = video.imageSelect(CROP_FRAMES)\n",
    "imgsel.ignition(frame_selected)"
   ]
  },
  {
   "cell_type": "markdown",
   "metadata": {
    "pycharm": {
     "name": "#%% md\n"
    }
   },
   "source": [
    "## Define crop region using the selected image.\n",
    "### Use  'Save Crop Sizes' when you're satisfied with the crop region."
   ]
  },
  {
   "cell_type": "code",
   "execution_count": null,
   "metadata": {},
   "outputs": [],
   "source": [
    "FRAME_IDX = 1\n",
    "SHAPE = None\n",
    "def grabCropShape(image_name, shape):\n",
    "    global SHAPE\n",
    "    SHAPE = shape\n",
    "    print(\"set SHAPE \", image_name, shape, flush=True)\n",
    "\n",
    "try :\n",
    "    print(\"Using frame #{} to specify crop region.\".format(FRAME_IDX))\n",
    "except NameError as e:\n",
    "    print(\"\\n\\nERROR * You must select the 'crop' button above to commit your selection.\\n\\n\")\n",
    "\n",
    "\n",
    "crop([CROP_FRAMES[FRAME_IDX]], callback=grabCropShape)\n"
   ]
  },
  {
   "cell_type": "markdown",
   "metadata": {
    "pycharm": {
     "name": "#%% md\n"
    }
   },
   "source": [
    "## Verify the cropped region to on the collected frames "
   ]
  },
  {
   "cell_type": "code",
   "execution_count": null,
   "metadata": {
    "pycharm": {
     "name": "#%%\n"
    }
   },
   "outputs": [],
   "source": [
    "if SHAPE is None:\n",
    "    print(\"\\n\\nYou must select the 'Save Crop Sizes' button above to commit crop region.\\n\\n\")\n",
    "else:\n",
    "    print(\"Using shape : {}\".format(SHAPE))\n",
    "    video.collected_frames(CROP_FRAMES, SHAPE)"
   ]
  },
  {
   "cell_type": "markdown",
   "metadata": {
    "pycharm": {
     "name": "#%% md\n"
    }
   },
   "source": [
    "## Dashboard\n",
    "\n",
    "Collect frames from the video feed, crop and display.\n",
    "\n",
    "Threaded to get the button pushes. "
   ]
  },
  {
   "cell_type": "code",
   "execution_count": null,
   "metadata": {},
   "outputs": [],
   "source": [
    "creds = json.loads(credential.magsEventStream)\n",
    "producer = video.kafka_producer(creds,)\n",
    "\n",
    "scv = video.streamCroppedVideo(M3U8, SHAPE, \n",
    "                           wait_time=2, \n",
    "                           frame_modulo=6, \n",
    "                           kafka_producer=producer, \n",
    "                           kafka_topic='VideoFrame')\n",
    "scv.ignition(True)\n",
    "print(\"done\")"
   ]
  },
  {
   "cell_type": "code",
   "execution_count": null,
   "metadata": {},
   "outputs": [],
   "source": [
    "scv.ignition(False)\n",
    "print(\"done\")"
   ]
  },
  {
   "cell_type": "markdown",
   "metadata": {},
   "source": [
    "## end"
   ]
  },
  {
   "cell_type": "code",
   "execution_count": null,
   "metadata": {},
   "outputs": [],
   "source": [
    "scv.execute.is_set()"
   ]
  },
  {
   "cell_type": "code",
   "execution_count": null,
   "metadata": {},
   "outputs": [],
   "source": [
    "scv.execute.clear()"
   ]
  },
  {
   "cell_type": "code",
   "execution_count": null,
   "metadata": {},
   "outputs": [],
   "source": []
  }
 ],
 "metadata": {
  "kernelspec": {
   "display_name": "Python 3",
   "language": "python",
   "name": "python3"
  },
  "language_info": {
   "codemirror_mode": {
    "name": "ipython",
    "version": 3
   },
   "file_extension": ".py",
   "mimetype": "text/x-python",
   "name": "python",
   "nbconvert_exporter": "python",
   "pygments_lexer": "ipython3",
   "version": "3.6.10"
  }
 },
 "nbformat": 4,
 "nbformat_minor": 2
}
