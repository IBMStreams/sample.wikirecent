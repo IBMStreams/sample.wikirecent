{
 "cells": [
  {
   "cell_type": "markdown",
   "metadata": {},
   "source": [
    "## Cropped Cam Sender\n",
    "\n",
    "Grab video from a webcam, crop the frames, render and send. \n"
   ]
  },
  {
   "cell_type": "code",
   "execution_count": null,
   "metadata": {},
   "outputs": [],
   "source": [
    "#!pip install m3u8\n",
    "#!pip install opencv-python"
   ]
  },
  {
   "cell_type": "code",
   "execution_count": null,
   "metadata": {},
   "outputs": [],
   "source": [
    "import string\n",
    "import os\n",
    "import sys\n",
    "import json\n",
    "import base64\n",
    "import ssl\n",
    "import time\n",
    "import datetime\n",
    "import io\n",
    "import logging\n",
    "import re\n",
    "import collections\n",
    "import threading\n",
    "\n",
    "import cv2\n",
    "import requests\n",
    "import urllib\n",
    "import m3u8\n",
    "from urllib.parse import urlparse\n",
    "from PIL import Image\n",
    "import numpy as np\n",
    "\n",
    "import matplotlib.pyplot as plt\n",
    "import ipywidgets as widgets\n",
    "from ipywidgets import Button, HBox, VBox, Layout\n",
    "from IPython.display import clear_output\n",
    "\n",
    "from interactivecrop.interactivecrop import main as crop\n",
    "\n",
    "if '../scripts' not in sys.path:\n",
    "    sys.path.insert(0, '../scripts')\n",
    "\n",
    "import stream_video as video\n",
    "import credential"
   ]
  },
  {
   "cell_type": "markdown",
   "metadata": {},
   "source": [
    "## Tutorial \n",
    "A very good walk through on the .m3u8 files that index .ts files that have \n",
    "the vido chunks that we need \n",
    "\n",
    "https://www.youtube.com/watch?v=bytnxnZFLeg\n"
   ]
  },
  {
   "cell_type": "markdown",
   "metadata": {},
   "source": [
    "## test file access\n",
    "The .ts files have the images to analyize. You need to walk through the index to get to the data. Mulitple index formats. Not sure if thier standard method for the schema, may make it too easy to 'borrow' someone ele's content.\n"
   ]
  },
  {
   "cell_type": "markdown",
   "metadata": {},
   "source": [
    "\"blob:https://www.earthcam.com/00631398-95e6-40df-9d75-71501c1a6da6\"\n",
    "\n",
    "<video muted=\"muted\" crossorigin=\"anonymous\" id=\"videoPlayer_html5_api\" class=\"vjs-tech\" preload=\"none\" style=\"position: absolute\" tabindex=\"-1\" src=\"blob:https://www.earthcam.com/00631398-95e6-40df-9d75-71501c1a6da6\"></video>\n",
    "\n"
   ]
  },
  {
   "cell_type": "markdown",
   "metadata": {},
   "source": [
    "# Locating chunks of video frames.\n",
    "\n",
    "\n",
    "\n",
    "The live webcams have a hierachy of files that terminates with files with chunks of frames, .ts files. \n",
    "The deepest .m3u8 will be updated with every new chunk's arrival. Work your way down to the lowests m3u8 file handle, this file is newly captured .ts files, it gets rewritten with new video chunks arrive. \n",
    "\n",
    "\n",
    "## Three examples\n",
    "\n",
    "Below is collection of sites that we can fetch video via .m3u8 that reference .ts files. "
   ]
  },
  {
   "cell_type": "markdown",
   "metadata": {},
   "source": [
    "### whatsupcams \n",
    "\n",
    "The standard process is to find a webcam that you are interested in getting the contents from, using \n",
    "Chome to look a the network traffic looking for files being fetched that end inf '.m3u8', repeatily. \n",
    "Look at the preview, you have the correct file if you see content refering to .ts files like this...\n",
    "```text\n",
    "#EXTM3U\n",
    "#EXT-X-VERSION:3\n",
    "#EXT-X-MEDIA-SEQUENCE:4982\n",
    "#EXT-X-TARGETDURATION:12\n",
    "#EXTINF:11.989,\n",
    "hr_zadar4-4982.ts\n",
    "#EXTINF:11.986,\n",
    "hr_zadar4-4983.ts\n",
    "#EXTINF:11.989,\n",
    "hr_zadar4-4984.ts\n",
    "```\n",
    "\n",
    "\n",
    "Capture the url link to the file in chrome and past into M3U8 variable in below. \n",
    "https://cdn-004.whatsupcams.com/hls/hr_zadar4.m3u8\n",
    "\n",
    "Below you will find the video link and M3U8 for webcam at different sites\n",
    "\n",
    "\n",
    "| url | M3U8 |\n",
    "|:-----|:-----|\n",
    "|https://www.whatsupcams.com/en/webcams/croatia/zadar/zadar/zadar-narodni-trg-peoples-square/| https://cdn-004.whatsupcams.com/hls/hr_zadar4.m3u8|\n",
    "| https://www.whatsupcams.com/en/webcams/italy/veneto/venice/webcam-venice-rialto-bridge/ | https://cdn-001.whatsupcams.com/hls/it_venezia01.m3u8| \n",
    "| https://www.whatsupcams.com/en/webcams/croatia/zadar/zadar/zadar-trg-petra-zoranica/ | https://cdn-001.whatsupcams.com/hls/hr_zadar3.m3u8 |\n",
    "\n",
    "        "
   ]
  },
  {
   "cell_type": "markdown",
   "metadata": {},
   "source": [
    "### caltrans\n",
    "\n",
    "| url | M3U8 |\n",
    "|:-----|:-----|\n",
    "|http://cwwp2.dot.ca.gov/vm/loc/d4/tv388sr1justsouthofpresidiotunnel.htm| http://wzmedia.dot.ca.gov/D4/N1_at_Presidio_Tunnel.stream/chunklist_w665039362.m3u8 |\n",
    "| http://cwwp2.dot.ca.gov/vm/loc/d4/tv457sr92elcaminoreal.htm | http://wzmedia.dot.ca.gov/D4/W92_at_El_Camino_Real.stream/chunklist_w2118793021.m3u8 |\n",
    "|http://cwwp2.dot.ca.gov/vm/loc/d4/tve83us101i580.htm | http://wzmedia.dot.ca.gov/D4/N101_at_580.stream/chunklist_w987073694.m3u8 |\n",
    "| http://cwwp2.dot.ca.gov/vm/loc/d4/tv302us10117thstreet.htm | http://wzmedia.dot.ca.gov/D4/S101_at_17th_St.stream/chunklist_w1949748683.m3u8 |\n",
    "\n",
    "\n",
    "- Go to the map page, http://cwwp2.dot.ca.gov/vm/iframemap.htm\n",
    "- select a video camera from the map\n",
    "- select 'Open this camera in a bookmark-friendly format\"\n",
    "- Using Chrome, grap URL of opened page, for example (http://cwwp2.dot.ca.gov/vm/loc/d4/tv388sr1justsouthofpresidiotunnel.htm). Access the developer tool (View | Developer | Developer Tools) the  'Network' tab\n",
    " - Find a 'chunklist*.m3u8' file, the contents of which look like.\n",
    " ```\n",
    "#EXTM3U\n",
    "#EXT-X-VERSION:4\n",
    "#EXT-X-TARGETDURATION:11\n",
    "#EXT-X-MEDIA-SEQUENCE:7817\n",
    "#EXTINF:9.61,\n",
    "media_w1296425575_7817.ts\n",
    "#EXTINF:10.677,\n",
    "media_w1296425575_7818.ts\n",
    "#EXTINF:9.61,\n",
    "media_w1296425575_7819.ts\n",
    "```\n",
    "Assign this value to **M3U8** below\n",
    "\n",
    "\n",
    "Notes : \n",
    "- I have found that the caltrans camera are sporatic."
   ]
  },
  {
   "cell_type": "markdown",
   "metadata": {},
   "source": [
    "## Huntington beach \n",
    "This site has multiple cameras on one page, bring up the page in Chrome's \"Network\" developer tab. Find the 'chunklist_\\*.m3u8' file and set it to the **M3U8** file.\n",
    "\n",
    "| url | M3U8 |\n",
    "|:-----|:-----|\n",
    "| https://hbcams.com/ | https://56cdb389b57ec.streamlock.net:1935/live/hbnorth.stream/chunklist_w790486524.m3u8 |"
   ]
  },
  {
   "cell_type": "markdown",
   "metadata": {},
   "source": [
    "# Define cropping region for live video streams\n",
    "\n",
    "The rest of the notebook walks through \n",
    "- collecting some sample frames\n",
    "- selecting frame for cropping \n",
    "- cropping the frame\n",
    "- reviewing the specified cropped region \n",
    "- finally streaming the video and rendering the frames cropped.\n",
    "\n"
   ]
  },
  {
   "cell_type": "markdown",
   "metadata": {},
   "source": [
    "### Assign the url of the chunklist to the  M3U8 varible below. \n",
    "\n",
    "Select the feed that you want to extract frames from by assigning the **M3U8** variable.\n"
   ]
  },
  {
   "cell_type": "code",
   "execution_count": null,
   "metadata": {},
   "outputs": [],
   "source": [
    "M3U8 = \"http://wzmedia.dot.ca.gov/D4/N1_at_Presidio_Tunnel.stream/chunklist_w665039362.m3u8\"\n",
    "M3U8 = \"http://wzmedia.dot.ca.gov/D4/W92_at_El_Camino_Real.stream/chunklist_w2118793021.m3u8\"\n",
    "M3U8 = \"http://wzmedia.dot.ca.gov/D4/S101_at_17th_St.stream/chunklist_w1949748683.m3u8\"\n",
    "M3U8 = \"https://56cdb389b57ec.streamlock.net:1935/live/hbnorth.stream/chunklist_w790486524.m3u8\"\n",
    "M3U8 = \"https://cdn-004.whatsupcams.com/hls/hr_zadar4.m3u8\"\n",
    "#M3U8 = \"https://cdn-001.whatsupcams.com/hls/hr_zadar3.m3u8\"\n",
    "M3U8 = \"https://cdn-001.whatsupcams.com/hls/it_venezia01.m3u8\"\n",
    "\n",
    "\n",
    "cams_chunk_url = M3U8\n",
    "cams_base = video.extract_base(cams_chunk_url)"
   ]
  },
  {
   "cell_type": "markdown",
   "metadata": {
    "pycharm": {
     "name": "#%% md\n"
    }
   },
   "source": [
    "## Collect a set of sample frames\n",
    "\n",
    "Collect some frames to be used for defining the crop region."
   ]
  },
  {
   "cell_type": "code",
   "execution_count": null,
   "metadata": {},
   "outputs": [],
   "source": [
    "def collect_frames(chunk_url, count=5):\n",
    "    \"\"\"collects fr ms making 'count' requests for chunks\n",
    "       args:\n",
    "            count : the number of chunks to fetc\n",
    "        return:\n",
    "            list of frames\n",
    "    \"\"\"\n",
    "    cams_base = video.extract_base(chunk_url)\n",
    "    collected_segment = collections.deque(maxlen=10)\n",
    "    crop_frames = list()\n",
    "    \n",
    "    for idx in range(count):\n",
    "        cams_response = requests.get(chunk_url)\n",
    "        cams_chunklist = cams_response.text\n",
    "        segments = video.m3u8_segments(cams_chunklist, cams_base)\n",
    "    \n",
    "        for segment in segments:\n",
    "            # only get the first frame\n",
    "            if segment not in collected_segment:\n",
    "                frame = video.display_frame(segment)\n",
    "                crop_frames.append(frame[0])\n",
    "                print(\"segment:\", segment)\n",
    "                collected_segment.append(segment)\n",
    "            else:\n",
    "                #print(\"skip segment:\", segment)\n",
    "                pass\n",
    "    return crop_frames\n"
   ]
  },
  {
   "cell_type": "code",
   "execution_count": null,
   "metadata": {
    "pycharm": {
     "name": "#%%\n"
    }
   },
   "outputs": [],
   "source": [
    "CROP_FRAMES = collect_frames(M3U8, 3)\n",
    "print(\"\\n\\nCollected {} frames\".format(len(CROP_FRAMES)))"
   ]
  },
  {
   "cell_type": "markdown",
   "metadata": {
    "pycharm": {
     "name": "#%% md\n"
    }
   },
   "source": [
    "## Select a frame to define the crop region\n",
    "\n",
    "#### Use  'crop'  button to select the frame"
   ]
  },
  {
   "cell_type": "code",
   "execution_count": null,
   "metadata": {
    "pycharm": {
     "is_executing": true,
     "name": "#%%\n"
    }
   },
   "outputs": [],
   "source": [
    "def frame_selected(idx):\n",
    "    global FRAME_IDX\n",
    "    print(\"Use frame {} to work out cropping region.\".format(idx))\n",
    "    FRAME_IDX = idx\n",
    "    \n",
    "imgsel = video.image_select(CROP_FRAMES)\n",
    "imgsel.ignition(frame_selected)\n"
   ]
  },
  {
   "cell_type": "markdown",
   "metadata": {
    "pycharm": {
     "name": "#%% md\n"
    }
   },
   "source": [
    "## Define crop region using the selected image.\n",
    "#### Use  'Save Crop Sizes' when you're satisfied with the crop region."
   ]
  },
  {
   "cell_type": "code",
   "execution_count": null,
   "metadata": {},
   "outputs": [],
   "source": [
    "SHAPE = None\n",
    "def grabCropShape(image_name, shape):\n",
    "    global SHAPE\n",
    "    SHAPE = shape\n",
    "    print(\"set SHAPE \", image_name, shape, flush=True)\n",
    "\n",
    "try :\n",
    "    print(\"Using frame #{} to specify crop region.\".format(FRAME_IDX))\n",
    "except NameError as e:\n",
    "    print(\"\\n\\nERROR * You must select the 'crop' button above to commit your selection.\\n\\n\")\n",
    "\n",
    "\n",
    "crop([CROP_FRAMES[FRAME_IDX]], callback=grabCropShape)\n"
   ]
  },
  {
   "cell_type": "markdown",
   "metadata": {
    "pycharm": {
     "name": "#%% md\n"
    }
   },
   "source": [
    "## Verify the cropped region to on the collected frames "
   ]
  },
  {
   "cell_type": "code",
   "execution_count": null,
   "metadata": {
    "pycharm": {
     "name": "#%%\n"
    }
   },
   "outputs": [],
   "source": [
    " \n",
    "if SHAPE is None:\n",
    "    print(\"\\n\\nYou must select the 'Save Crop Sizes' button above to commit crop region.\\n\\n\")\n",
    "else:\n",
    "    print(\"Using shape : {}\".format(SHAPE))\n",
    "    video.collected_frames(CROP_FRAMES, SHAPE)"
   ]
  },
  {
   "cell_type": "markdown",
   "metadata": {
    "pycharm": {
     "name": "#%% md\n"
    }
   },
   "source": [
    "### dashboard\n",
    "\n",
    "Collect frames from the video feed, crop and display.\n",
    "\n",
    "Threaded to get the button pushes. "
   ]
  },
  {
   "cell_type": "code",
   "execution_count": null,
   "metadata": {},
   "outputs": [],
   "source": [
    "\n",
    "class stream_cropped_video():\n",
    "\n",
    "    def stop_clicked(self, b):\n",
    "        self.stream_action.value = \"initiate STOP\"\n",
    "        self.stop = True\n",
    "    \n",
    "    def transmit_clicked(self, b):\n",
    "        if self.transmit:\n",
    "            self.transmit = False\n",
    "            self.stream_action.value = \"transmit stopping\"\n",
    "            self.transmit_button.description = \"Transmit * Start\"\n",
    "        else:\n",
    "            self.transmit = True\n",
    "            self.stream_action.value = \"transmit countinue : {}\".format(self.transmit_count)\n",
    "            self.transmit_button.description = \"Transmit * Stop\"\n",
    "\n",
    "\n",
    "    \n",
    "        \n",
    "    def __init__(self, cams_chunk_url=None, shape=None, wait_time=1, frame_modulo=24, kafka_producer=None, kafka_topic=None):\n",
    "        \"\"\"dashboard to send frames to streams\n",
    "           args\n",
    "                cams_chunk_url : M3U8 url, contents should have .ts files\n",
    "                shape : value returned from cropping tool, region of image to be cropped\n",
    "                \n",
    "                wait_time : seconds to wait between \n",
    "                frame_modulo : send ever # frame \n",
    "                \n",
    "        \"\"\"\n",
    "        self.cams_chunk_url = cams_chunk_url\n",
    "        self.cams_base = cams_base = video.extract_base(cams_chunk_url)\n",
    "        self.shape = shape\n",
    "        self.wait_time = wait_time\n",
    "        self.frame_modulo = frame_modulo\n",
    "        self.kafka_prod = kafka_producer\n",
    "        self.kafka_topic = kafka_topic\n",
    "        self.active_segment = None\n",
    "        \n",
    "        self.stream_action = widgets.Label(layout={'border': '1px solid green','width':'61%'})\n",
    "        self.stream_widget = widgets.Output(layout={'border': '1px solid red','width':'61%','height':'270pt'})\n",
    "        self.stream_status = widgets.Label(layout={'border': '1px solid green','width':'61%'})\n",
    "        self.transmit_button = widgets.Button(description=\"Transmit * Start \",layout={'width':'30%'})\n",
    "        self.stop_button = widgets.Button(description=\"Stop Collecting frames\",layout={'width':'30%'})\n",
    "        self.stop = False\n",
    "        self.transmit = False\n",
    "        self.transmit_count = 0\n",
    "        \n",
    "        self.button_bar = widgets.HBox([self.transmit_button, self.stop_button])\n",
    "        display(VBox([self.stream_action, self.stream_widget, self.button_bar, self.stream_status]))\n",
    "        \n",
    "        self.stop_button.on_click(self.stop_clicked)\n",
    "        self.transmit_button.on_click(self.transmit_clicked)\n",
    "        \n",
    "        self.displayed_segment = collections.deque(maxlen=10)\n",
    "        \n",
    "        self.execute = threading.Event()\n",
    "        self.thread = None\n",
    "\n",
    "\n",
    "      \n",
    "        \n",
    "    def frame_crop_display(self, frame):\n",
    "        \"\"\"crop frame and display\n",
    "        \n",
    "        Returns:  encoded image that can be sent to streams\n",
    "        Notes: \n",
    "             * crop region is shape\n",
    "        \"\"\"\n",
    "        cropped_encoded_image = frame\n",
    "        if self.shape is not None:\n",
    "            cropped_encoded_image = video.crop_frame(frame, self.shape)\n",
    "        with self.stream_widget:\n",
    "            display(video.decode_img(cropped_encoded_image))\n",
    "            clear_output(wait=True)\n",
    "        return cropped_encoded_image\n",
    "            \n",
    "    def fetch_frames(self, segment, frame_modulo=24, process_frame=None):\n",
    "        \"\"\"fetch frames and process them \n",
    "        Args: \n",
    "            segment['segment] : url (*.ts) of video segment\n",
    "            process_frame : function that processes the fetched frame, \n",
    "                            this.frame_crop_display(), stream.show_frame()\n",
    "        Notes:\n",
    "            * process_thread is interesting but maybe too 'cute'\n",
    "    \"\"\"\n",
    "        cap = cv2.VideoCapture(segment['segment'])\n",
    "        count = 0\n",
    "        frames = list()\n",
    "        image_encoded_frames = list()\n",
    "        if (cap.isOpened()):\n",
    "            while True:\n",
    "                ret, frame = cap.read()\n",
    "                if ret is False:\n",
    "                    if self.stream_status is not None: self.stream_status.value = \"ENDFrame @ {}\".format(count)\n",
    "                    return frames, image_encoded_frames\n",
    "                if count % frame_modulo == 0:\n",
    "                    frames.append(frame)\n",
    "                    image_encoded_frames.append(process_frame(frame))\n",
    "\n",
    "                count += 1\n",
    "        else:\n",
    "            print(\"Open failed....\")\n",
    "        return frames,image_encoded_frames\n",
    "    \n",
    "    def send_encoded_image(self, image_encoded, CHUNK_SIZE=100000):\n",
    "        \"\"\"send one encoded frame via kafka\n",
    "        Args:\n",
    "            image_encoded : image to send\n",
    "            CHUNK_SIZE : maximum size to send\n",
    "        \"\"\"\n",
    "        video_url = self.active_segment['segment']\n",
    "        chunks = [image_encoded[i * CHUNK_SIZE:(i + 1) * CHUNK_SIZE] for i in\n",
    "                  range((len(image_encoded) + CHUNK_SIZE - 1) // CHUNK_SIZE)]\n",
    "        # send the chunks.\n",
    "        for idx, chunk in enumerate(chunks):\n",
    "            logging.debug(\"chunking - {}  #chunks :{} idx:{} len(chunk):{}\".format(video_url, len(chunks), idx, len(chunk)))\n",
    "            chunk_content = {'video': video_url,\n",
    "                   'frame': self.transmit_count,\n",
    "                   'chunk_idx':idx,\n",
    "                   'chunk_total':len(chunks),\n",
    "                   'timestamp': datetime.datetime.utcnow().isoformat() + 'Z',\n",
    "                   'data': chunk\n",
    "            }\n",
    "            self.kafka_prod.send(self.kafka_topic, value=json.dumps(chunk_content).encode('utf-8'))\n",
    "        ## finish the frame frame\n",
    "        chunk_complete = {'video': video_url,\n",
    "               'frame': self.transmit_count,\n",
    "                'chunk_idx': len(chunks),\n",
    "                'chunk_total': len(chunks),\n",
    "               'timestamp': datetime.datetime.utcnow().isoformat() + 'Z',\n",
    "               'data': \"\"\n",
    "               }\n",
    "        logging.info(\"Transmit frame #{}\".format(chunk_content[\"frame\"]))\n",
    "        self.kafka_prod.send(self.kafka_topic, value=json.dumps(chunk_complete).encode('utf-8'))\n",
    "\n",
    "\n",
    "    \n",
    "    \n",
    "    def kafka_frames(self, image_encoded_frames):\n",
    "        if self.transmit:\n",
    "            self.stream_action.value = \"send\"\n",
    "            self.transmit_count += len(image_encoded_frames)\n",
    "            self.stream_status.value = \"transmit count : {}\".format(self.transmit_count)\n",
    "            for image_encoded in image_encoded_frames:\n",
    "                self.send_encoded_image(image_encoded)\n",
    "\n",
    "    \n",
    "    def fetchFrames_thread(self):\n",
    "        self.stop_button.disabled = True\n",
    "        stop_action = lambda w: self.ignition(False)\n",
    "        self.stop_button.on_click(stop_action)\n",
    "        self.stop_button.disabled = False\n",
    "        self.transmit = False\n",
    "        self.execute.set()\n",
    "        \n",
    "        while self.execute.is_set():\n",
    "            cams_response = requests.get(self.cams_chunk_url)\n",
    "            cams_chunklist = cams_response.text\n",
    "            segments = video.m3u8_segments(cams_chunklist, self.cams_base)\n",
    "            time.sleep(self.wait_time)\n",
    "            for segment in segments:\n",
    "                self.active_segment = segment\n",
    "                if self.stop is True: break\n",
    "                if segment not in self.displayed_segment:\n",
    "                    self.stream_action.value = \"{} secs of frames in : {}\".format(segment['secs'], segment['segment'])\n",
    "                    frames,image_encoded_frames = self.fetch_frames(segment, process_frame=self.frame_crop_display, frame_modulo=self.frame_modulo)\n",
    "                    self.stream_status.value = \"Fetched ... {} frames.\".format(len(frames))\n",
    "                    self.kafka_frames(image_encoded_frames)\n",
    "                    self.displayed_segment.append(segment)\n",
    "                else:\n",
    "                    self.stream_status.value = \"skip segment:{}\".format(segment)\n",
    "         \n",
    "        self.stop_button.description = \"Stopped\"\n",
    "\n",
    "    def ignition(self, start):\n",
    "        if start:\n",
    "            self.thread = threading.Thread(target=self.fetchFrames_thread, name=\"RenderFrames\" )\n",
    "            self.thread.start()\n",
    "        else:\n",
    "            self.execute.clear()\n",
    "            self.stop_button.description = \"Stopping\"\n",
    "            self.stop_button.disabled = True\n",
    "            self.transmit_button.disabled = True\n",
    "\n",
    "creds = json.loads(credential.magsEventStream)\n",
    "producer = video.kafka_producer(creds,)\n",
    "\n",
    "scv = stream_cropped_video(M3U8, SHAPE, \n",
    "                           wait_time=2, \n",
    "                           frame_modulo=12, \n",
    "                           kafka_producer=producer, \n",
    "                           kafka_topic='VideoFrame')\n",
    "scv.ignition(True)\n",
    "print(\"done\")\n"
   ]
  },
  {
   "cell_type": "code",
   "execution_count": null,
   "metadata": {},
   "outputs": [],
   "source": []
  },
  {
   "cell_type": "code",
   "execution_count": null,
   "metadata": {},
   "outputs": [],
   "source": []
  },
  {
   "cell_type": "code",
   "execution_count": null,
   "metadata": {},
   "outputs": [],
   "source": []
  }
 ],
 "metadata": {
  "kernelspec": {
   "display_name": "Python 3",
   "language": "python",
   "name": "python3"
  },
  "language_info": {
   "codemirror_mode": {
    "name": "ipython",
    "version": 3
   },
   "file_extension": ".py",
   "mimetype": "text/x-python",
   "name": "python",
   "nbconvert_exporter": "python",
   "pygments_lexer": "ipython3",
   "version": "3.6.9"
  }
 },
 "nbformat": 4,
 "nbformat_minor": 2
}
