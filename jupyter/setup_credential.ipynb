{
 "cells": [
  {
   "cell_type": "markdown",
   "metadata": {},
   "source": [
    "# Enable Cloud Submission\n",
    "\n",
    "To enable Cloud submission setup a VCAP using the credential from \n",
    "your Streams instance.\n",
    "\n",
    "Create a credential.py file in the current directory with the following \n",
    "the pattern,\n",
    "\n",
    "\n",
    "## Apikey for instance being submitted to...\n",
    "```python\n",
    "streaming3Turbine = {\n",
    "    \"apikey\": \"SZtizGEk0JUST_AN_EXAMPLECgIZb0xmO\",\n",
    "    \"iam_apikey_description\": \"Auto generated apikey during resource-key operation for Instance - crn:v1:bluemix:public:streaming-analytics:us-south:a/309e3606a35c9fea12981876cd991b07:b11e1ab0-9570-44d0-950c-7b84b5abb817::\",\n",
    "    \"iam_apikey_name\": \"auto-generated-apikey-JUST_AN_EXAMPLE-d2fdf7cedd75\",\n",
    "    \"iam_role_crn\": \"crn:v1:bluemix:JUST_A_EXAMPLE:Manager\",\n",
    "    \"iam_serviceid_crn\": \"crn:v1:bluemix:public:iam-identity::a/JUST_AN_EXAMPLE::serviceid:ServiceId-761f23f0-ec9f-4eba-9f97-7cee5b99d19f\",\n",
    "    \"v2_rest_url\": \"https://streams-app-service.ng.bluemix.net/v2/streaming_analytics/b11e1ab0-JUST_AN_EXAMPLE-7b84b5abb817\"\n",
    "```\n",
    "\n",
    "### VCAP mapping to instance...\n",
    "```Python\n",
    "vcap_conf = {'streaming-analytics': [{\n",
    "                'name': \"Streaming3Turbine\",\n",
    "                'credentials': streaming3Turbine}]\n",
    "            }\n",
    "\n",
    "```\n",
    "\n",
    "### Notes:\n",
    "- The notebooks will access the configuration.py file. \n",
    "- If you do not use the name 'Streaming3Turbine' you find/replace\n",
    "the string within the notebook.\n",
    "\n",
    "\n",
    "\n"
   ]
  },
  {
   "cell_type": "code",
   "execution_count": null,
   "metadata": {},
   "outputs": [],
   "source": []
  }
 ],
 "metadata": {
  "kernelspec": {
   "display_name": "Python 3",
   "language": "python",
   "name": "python3"
  },
  "language_info": {
   "codemirror_mode": {
    "name": "ipython",
    "version": 3
   },
   "file_extension": ".py",
   "mimetype": "text/x-python",
   "name": "python",
   "nbconvert_exporter": "python",
   "pygments_lexer": "ipython3",
   "version": "3.5.4"
  }
 },
 "nbformat": 4,
 "nbformat_minor": 2
}
