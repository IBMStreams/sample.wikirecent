{
 "cells": [
  {
   "cell_type": "markdown",
   "metadata": {
    "pycharm": {}
   },
   "source": [
    "# Enable Cloud Submission\n",
    "\n",
    "To enable Cloud submission setup a VCAP using the credential from \n",
    "your Streams instance.\n",
    "\n",
    "Create a credential.py file in the current directory with the following pattern:\n",
    "\n",
    "\n",
    "## Apikey for instance being submitted to...\n",
    "```python\n",
    "streaming3Turbine = {\n",
    "    \"apikey\": \"SZtizGEk0JUST_AN_EXAMPLECgIZb0xmO\",\n",
    "    \"iam_apikey_description\": \"Auto generated apikey during resource-key operation for Instance - crn:v1:bluemix:public:streaming-analytics:us-south:a/309e3606a35c9fea12981876cd991b07:b11e1ab0-9570-44d0-950c-7b84b5abb817::\",\n",
    "    \"iam_apikey_name\": \"auto-generated-apikey-JUST_AN_EXAMPLE-d2fdf7cedd75\",\n",
    "    \"iam_role_crn\": \"crn:v1:bluemix:JUST_A_EXAMPLE:Manager\",\n",
    "    \"iam_serviceid_crn\": \"crn:v1:bluemix:public:iam-identity::a/JUST_AN_EXAMPLE::serviceid:ServiceId-761f23f0-ec9f-4eba-9f97-7cee5b99d19f\",\n",
    "    \"v2_rest_url\": \"https://streams-app-service.ng.bluemix.net/v2/streaming_analytics/b11e1ab0-JUST_AN_EXAMPLE-7b84b5abb817\"\n",
    "```\n",
    "\n",
    "### VCAP mapping to instance...\n",
    "```Python\n",
    "vcap_conf = {'streaming-analytics': [{\n",
    "                'name': \"Streaming3Turbine\",\n",
    "                'credentials': streaming3Turbine}]\n",
    "            }\n",
    "\n",
    "```\n",
    "### Credential for Kafka/Event Streams access\n",
    "The Event Streams service is used to send videos frames into Streams application. Messages \n",
    "going from SmokeSend\n",
    "\n",
    "the appplication. Generate the credential on the an put it into the credentials.py file. \n",
    "\n",
    "Using an obfuscated credential is look something like.....\n",
    "\n",
    "```\n",
    "magsEventStream = \"\"\"{\n",
    "  \"api_key\": \"cMJl6K_obfuscated-BOT\",\n",
    "  \"apikey\": \"cMJl6K_obfuscated-BOT\",\n",
    "  \"iam_apikey_description\": \"Auto-generated for key 7a356b3d-obfuscated-83045350c6b9\",\n",
    "  \"iam_apikey_name\": \"Service credentials-1\",\n",
    "  \"iam_role_crn\": \"crn:v1:bluemix:public:iam::::obfuscated:Manager\",\n",
    "  \"iam_serviceid_crn\": \"crn:v1:bluemix:public:iam-identity::a/309e3606aobfuscatedcd991b07::serviceid:ServiceId-obfuscated-fe7d4830276c\",\n",
    "  \"instance_id\": \"5f4b2210-obfuscated-d395ab8f214f\",\n",
    "  \"kafka_admin_url\": \"https://obfuscated.svc01.us-south.eventstreams.cloud.ibm.com\",\n",
    "  \"kafka_brokers_sasl\": [\n",
    "    \"broker-2-messed up fo.cloud.ibm.com:9093\",\n",
    "    \"broker-5-qh451lobfuscated.ibm.com:9093\",\n",
    "    \"broker-1-qh451lobfuscated.ibm.com:9093\",\n",
    "    \"broker-4-qh451lobfuscated.cloud.ibm.com:9093\",\n",
    "    \"broker-3-qh451lobfuscated.cloud.ibm.com:9093\",\n",
    "    \"broker-0-qh451lobfuscatedcloud.ibm.com:9093\"\n",
    "  ],\n",
    "  \"kafka_http_url\": \"https://obfuscated.cloud.ibm.com\",\n",
    "  \"password\": \"cMJl6K_obfuscated-BOT\",\n",
    "  \"user\": \"token\"\n",
    "}\"\"\"\n",
    "```\n",
    "### Notes:\n",
    "- The notebooks will access the configuration.py file. \n",
    "- If you do not use the name 'streaming3Turbine' find/replace\n",
    "the string within the notebooks.\n",
    "\n",
    "\n",
    "\n"
   ]
  },
  {
   "cell_type": "code",
   "execution_count": null,
   "metadata": {
    "pycharm": {}
   },
   "outputs": [],
   "source": []
  },
  {
   "cell_type": "code",
   "execution_count": null,
   "metadata": {},
   "outputs": [],
   "source": []
  }
 ],
 "metadata": {
  "kernelspec": {
   "display_name": "Python 3",
   "language": "python",
   "name": "python3"
  },
  "language_info": {
   "codemirror_mode": {
    "name": "ipython",
    "version": 3
   },
   "file_extension": ".py",
   "mimetype": "text/x-python",
   "name": "python",
   "nbconvert_exporter": "python",
   "pygments_lexer": "ipython3",
   "version": "3.6.9"
  }
 },
 "nbformat": 4,
 "nbformat_minor": 2
}
