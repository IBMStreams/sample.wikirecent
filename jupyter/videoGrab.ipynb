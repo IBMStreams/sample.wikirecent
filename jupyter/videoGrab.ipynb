{
 "cells": [
  {
   "cell_type": "markdown",
   "metadata": {},
   "source": [
    "## Video Grab\n",
    "\n",
    "Grap a live video from a webcam, crop the frams and display them,\n",
    "\n",
    "### Overview\n",
    "When the  video tag has a href pointing to  *file*.m3u8 link down through them until you get to file \n",
    "that has .ts file - this is the video images. The .m3u8 is a index to the video, it can be multi-level index\n",
    "index of resolutition poiinting to index of chunks. Linking down you will get different resolution.\n",
    "The .ts are chunks that can be fetched. Neat trick allows start in high resolution, if badwidth \n",
    "drops use lower resolution, each element on the list start at the same place, switching resolutions\n",
    "are synced. Do the preparation of the encoding before, can have multiple users access the same \n",
    "content at different point. Thi\n",
    "\n",
    "- all the camera : http://cwwp2.dot.ca.gov/vm/iframemap.htm \n",
    "\n",
    "- selected camera : http://cwwp2.dot.ca.gov/vm/loc/d3/hwy80atapplegate.htm \n",
    "Extracted values from \n",
    "- list of the http://wzmedia.dot.ca.gov:1935/D3/80_applegate.stream/chunklist_w26198038.m3u8\n",
    "- "
   ]
  },
  {
   "cell_type": "code",
   "execution_count": null,
   "metadata": {},
   "outputs": [],
   "source": [
    "#!pip install m3u8\n",
    "#!pip install opencv-python"
   ]
  },
  {
   "cell_type": "code",
   "execution_count": 1,
   "metadata": {},
   "outputs": [],
   "source": [
    "import string\n",
    "import os\n",
    "import sys\n",
    "import json\n",
    "import base64\n",
    "import ssl\n",
    "import time\n",
    "import datetime\n",
    "import io\n",
    "import logging\n",
    "import re\n",
    "import collections\n",
    "\n",
    "import cv2\n",
    "import requests\n",
    "import urllib\n",
    "import m3u8\n",
    "from urllib.parse import urlparse\n",
    "from PIL import Image\n",
    "import numpy as np\n",
    "\n",
    "import matplotlib.pyplot as plt\n",
    "import ipywidgets as widgets\n",
    "from ipywidgets import Button, HBox, VBox, Layout\n",
    "from IPython.display import clear_output\n",
    "\n",
    "from interactivecrop.interactivecrop import main as crop\n",
    "\n",
    "if '../scripts' not in sys.path:\n",
    "    sys.path.insert(0, '../scripts')\n",
    "\n",
    "import stream_video as video"
   ]
  },
  {
   "cell_type": "markdown",
   "metadata": {},
   "source": [
    "## Tutorial \n",
    "A very good walk through on the .m3u8 files that index .ts files that have \n",
    "the vido chunks that we need \n",
    "\n",
    "https://www.youtube.com/watch?v=bytnxnZFLeg\n"
   ]
  },
  {
   "cell_type": "markdown",
   "metadata": {},
   "source": [
    "## test file access\n",
    "The .ts files have the images to analyize. You need to walk through the index to get to the data. Mulitple index formats. Not sure if thier standard method for the schema, may make it too easy to 'borrow' someone ele's content.\n"
   ]
  },
  {
   "cell_type": "markdown",
   "metadata": {},
   "source": [
    "\"blob:https://www.earthcam.com/00631398-95e6-40df-9d75-71501c1a6da6\"\n",
    "\n",
    "<video muted=\"muted\" crossorigin=\"anonymous\" id=\"videoPlayer_html5_api\" class=\"vjs-tech\" preload=\"none\" style=\"position: absolute\" tabindex=\"-1\" src=\"blob:https://www.earthcam.com/00631398-95e6-40df-9d75-71501c1a6da6\"></video>\n",
    "\n"
   ]
  },
  {
   "cell_type": "markdown",
   "metadata": {},
   "source": [
    "# Locating the chunks.\n",
    "\n",
    "The live webcams have a hierachy of files that terminates with files with chunks of frames, .ts files. \n",
    "The deepest .m3u8 will be updated with every new chunk's arrival. Work your way down to the lowests m3u8 file handle, this file is newly captured .ts files, it gets rewritten with new video chunks arrive. \n",
    "\n",
    "Below is collection of sites that we can fetch video via .m3u8 that reference .ts files. \n",
    "\n",
    "The standard process is to find a webcam that you are interested in getting the contents from, using \n",
    "Chome to look a the network traffic looking for files being fetched that end inf '.m3u8', repeatily. \n",
    "Look at the preview, you have the correct file if you see content refering to .ts files like this...\n",
    "```text\n",
    "#EXTM3U\n",
    "#EXT-X-VERSION:3\n",
    "#EXT-X-MEDIA-SEQUENCE:4982\n",
    "#EXT-X-TARGETDURATION:12\n",
    "#EXTINF:11.989,\n",
    "hr_zadar4-4982.ts\n",
    "#EXTINF:11.986,\n",
    "hr_zadar4-4983.ts\n",
    "#EXTINF:11.989,\n",
    "hr_zadar4-4984.ts\n",
    "```\n",
    "\n",
    "Capture the url link to the file in chrome and past into M3U8 variable in below. \n",
    "https://cdn-004.whatsupcams.com/hls/hr_zadar4.m3u8\n",
    "\n",
    "Below you will find the video link and M3U8 for webcam at different sites"
   ]
  },
  {
   "cell_type": "markdown",
   "metadata": {},
   "source": [
    "### whatsupcams \n",
    "| url | M3U8 |\n",
    "|:-----|:-----|\n",
    "|https://www.whatsupcams.com/en/webcams/croatia/zadar/zadar/zadar-narodni-trg-peoples-square/| https://cdn-004.whatsupcams.com/hls/hr_zadar4.m3u8|\n",
    "| https://www.whatsupcams.com/en/webcams/italy/veneto/venice/webcam-venice-rialto-bridge/ | https://cdn-001.whatsupcams.com/hls/it_venezia01.m3u8| \n",
    "| https://www.whatsupcams.com/en/webcams/croatia/zadar/zadar/zadar-trg-petra-zoranica/ | https://cdn-001.whatsupcams.com/hls/hr_zadar3.m3u8 |\n",
    "\n",
    "        "
   ]
  },
  {
   "cell_type": "markdown",
   "metadata": {},
   "source": [
    "### caltrans\n",
    "\n",
    "| url | M3U8 |\n",
    "|:-----|:-----|\n",
    "|http://cwwp2.dot.ca.gov/vm/loc/d4/tv388sr1justsouthofpresidiotunnel.htm| http://wzmedia.dot.ca.gov/D4/N1_at_Presidio_Tunnel.stream/chunklist_w665039362.m3u8 |\n",
    "| http://cwwp2.dot.ca.gov/vm/loc/d4/tv457sr92elcaminoreal.htm | http://wzmedia.dot.ca.gov/D4/W92_at_El_Camino_Real.stream/chunklist_w2118793021.m3u8 |\n",
    "|http://cwwp2.dot.ca.gov/vm/loc/d4/tve83us101i580.htm | http://wzmedia.dot.ca.gov/D4/N101_at_580.stream/chunklist_w987073694.m3u8 |\n",
    "| http://cwwp2.dot.ca.gov/vm/loc/d4/tv302us10117thstreet.htm | http://wzmedia.dot.ca.gov/D4/S101_at_17th_St.stream/chunklist_w1949748683.m3u8 |\n",
    "\n",
    "\n",
    "- Go to the map page, http://cwwp2.dot.ca.gov/vm/iframemap.htm\n",
    "- select a video camera from the map\n",
    "- select 'Open this camera in a bookmark-friendly format\"\n",
    "- Using Chrome, grap URL of opened page, for example (http://cwwp2.dot.ca.gov/vm/loc/d4/tv388sr1justsouthofpresidiotunnel.htm). Access the developer tool (View | Developer | Developer Tools) the  'Network' tab\n",
    " - Find a 'chunklist*.m3u8' file, the contents of which look like.\n",
    " ```\n",
    "#EXTM3U\n",
    "#EXT-X-VERSION:4\n",
    "#EXT-X-TARGETDURATION:11\n",
    "#EXT-X-MEDIA-SEQUENCE:7817\n",
    "#EXTINF:9.61,\n",
    "media_w1296425575_7817.ts\n",
    "#EXTINF:10.677,\n",
    "media_w1296425575_7818.ts\n",
    "#EXTINF:9.61,\n",
    "media_w1296425575_7819.ts\n",
    "```\n",
    "Assign this value to **M3U8** below\n",
    "\n",
    "\n",
    "Notes : \n",
    "- I have found that the caltrans camera are sporatic."
   ]
  },
  {
   "cell_type": "markdown",
   "metadata": {},
   "source": [
    "## Huntington beach \n",
    "This site has multiple cameras on one page, bring up the page in Chrome's \"Network\" developer tab. Find the 'chunklist_\\*.m3u8' file and set it to the **M3U8** file.\n",
    "\n",
    "| url | M3U8 |\n",
    "|:-----|:-----|\n",
    "| https://hbcams.com/ | https://56cdb389b57ec.streamlock.net:1935/live/hbnorth.stream/chunklist_w790486524.m3u8 |"
   ]
  },
  {
   "cell_type": "markdown",
   "metadata": {},
   "source": [
    "## extracting whatsupcams chunks.\n",
    "\n",
    "You can look at the live stream using this link\" \n",
    "- https://www.whatsupcams.com/en/webcams/italy/veneto/venice/webcam-venice-rialto-bridge/\n",
    "- https://www.whatsupcams.com/en/webcams/croatia/zadar/zadar/zadar-narodni-trg-peoples-square/\n",
    "\n",
    "The code below fetches chunks from the same location the url does. Fetches the chunk and \n",
    "displays first frame. We've got three chunks and the last of the current chunk overlaps with the previous set.\n",
    "\n",
    "Loop:\n",
    "- for each segment, \n",
    "    - fetch segments video contents (each .ts file) \n",
    "    - display the 1st frame of fetched segment \n",
    "- end - wait for 1/2 last period and execute the for agai. \n"
   ]
  },
  {
   "cell_type": "markdown",
   "metadata": {},
   "source": [
    "### Assign the url of the chunklist to the  M3U8 varible below. \n",
    "\n"
   ]
  },
  {
   "cell_type": "code",
   "execution_count": 2,
   "metadata": {},
   "outputs": [],
   "source": [
    "M3U8 = \"http://wzmedia.dot.ca.gov/D4/N1_at_Presidio_Tunnel.stream/chunklist_w665039362.m3u8\"\n",
    "M3U8 = \"http://wzmedia.dot.ca.gov/D4/W92_at_El_Camino_Real.stream/chunklist_w2118793021.m3u8\"\n",
    "M3U8 = \"http://wzmedia.dot.ca.gov/D4/S101_at_17th_St.stream/chunklist_w1949748683.m3u8\"\n",
    "M3U8 = \"https://56cdb389b57ec.streamlock.net:1935/live/hbnorth.stream/chunklist_w790486524.m3u8\"\n",
    "M3U8 = \"https://cdn-004.whatsupcams.com/hls/hr_zadar4.m3u8\"\n",
    "M3U8 = \"https://cdn-001.whatsupcams.com/hls/hr_zadar3.m3u8\"\n",
    "cams_chunk_url = M3U8\n",
    "cams_base = video.extract_base(cams_chunk_url)"
   ]
  },
  {
   "cell_type": "markdown",
   "metadata": {
    "pycharm": {
     "name": "#%% md\n"
    }
   },
   "source": [
    "## collect some frames\n",
    "\n",
    "Collect some frame to be used for defining the crop region."
   ]
  },
  {
   "cell_type": "code",
   "execution_count": 3,
   "metadata": {
    "pycharm": {
     "name": "#%%\n"
    }
   },
   "outputs": [
    {
     "data": {
      "image/png": "[encoded data removed]",
      "text/plain": [
       "<Figure size 432x288 with 1 Axes>"
      ]
     },
     "metadata": {
      "needs_background": "light"
     },
     "output_type": "display_data"
    },
    {
     "name": "stdout",
     "output_type": "stream",
     "text": [
      "segment: {'secs': 12.0, 'segment': 'https://cdn-001.whatsupcams.com/hls/hr_zadar3-3580.ts'}\n",
      "skip segment: {'secs': 12.0, 'segment': 'https://cdn-001.whatsupcams.com/hls/hr_zadar3-3578.ts'}\n",
      "skip segment: {'secs': 12.0, 'segment': 'https://cdn-001.whatsupcams.com/hls/hr_zadar3-3579.ts'}\n",
      "skip segment: {'secs': 12.0, 'segment': 'https://cdn-001.whatsupcams.com/hls/hr_zadar3-3580.ts'}\n",
      "skip segment: {'secs': 12.0, 'segment': 'https://cdn-001.whatsupcams.com/hls/hr_zadar3-3578.ts'}\n",
      "skip segment: {'secs': 12.0, 'segment': 'https://cdn-001.whatsupcams.com/hls/hr_zadar3-3579.ts'}\n",
      "skip segment: {'secs': 12.0, 'segment': 'https://cdn-001.whatsupcams.com/hls/hr_zadar3-3580.ts'}\n"
     ]
    }
   ],
   "source": [
    "def collect_frames(chunk_url, count=5): \n",
    "    \"\"\"collects frams making 'count' requests for chunks\n",
    "    \n",
    "    args:\n",
    "        count : the number of chunks to fetch\n",
    "    return: \n",
    "        list of frames\n",
    "        \n",
    "    \"\"\"\n",
    "    cams_base = video.extract_base(chunk_url)\n",
    "    collected_segment = collections.deque(maxlen=10)\n",
    "    crop_frames = list()\n",
    "    \n",
    "    for idx in range(count):\n",
    "        cams_response = requests.get(chunk_url)\n",
    "        cams_chunklist = cams_response.text\n",
    "        segments = video.m3u8_segments(cams_chunklist, cams_base)\n",
    "\n",
    "        for segment in segments:\n",
    "            # only get the first frame \n",
    "            if segment not in collected_segment:\n",
    "                frame = video.display_frame(segment)\n",
    "                crop_frames.append(frame[0])\n",
    "                print(\"segment:\", segment)\n",
    "                collected_segment.append(segment)\n",
    "            else:\n",
    "                print(\"skip segment:\",segment)\n",
    "    return crop_frames\n",
    "\n",
    "CROP_FRAMES = collect_frames(M3U8, 5)"
   ]
  },
  {
   "cell_type": "markdown",
   "metadata": {
    "pycharm": {
     "name": "#%% md\n"
    }
   },
   "source": [
    "type(crop_frames[2])\n",
    "\n",
    "image_encoded = video.encode_img(Image.fromarray(frame[0], 'RGB'))\n",
    "img_raw = video.decode_img(image_encoded)\n"
   ]
  },
  {
   "cell_type": "markdown",
   "metadata": {
    "pycharm": {
     "name": "#%% md\n"
    }
   },
   "source": [
    "## Select the image to define the crop region"
   ]
  },
  {
   "cell_type": "code",
   "execution_count": 4,
   "metadata": {
    "pycharm": {
     "is_executing": true,
     "name": "#%%\n"
    }
   },
   "outputs": [
    {
     "data": {
      "application/vnd.jupyter.widget-view+json": {
       "model_id": "c1aa77f9f71c4d6aaf2f73dc5c2685f2",
       "version_major": 2,
       "version_minor": 0
      },
      "text/plain": [
       "VBox(children=(Label(value='browse / select image to crop', layout=Layout(border='1px solid green', width='61%…"
      ]
     },
     "metadata": {},
     "output_type": "display_data"
    },
    {
     "name": "stdout",
     "output_type": "stream",
     "text": [
      "Use frame 3 to work out cropping region.\n"
     ]
    }
   ],
   "source": [
    "class image_select():\n",
    "    \"\"\"select a frame from a list of frames that are displayed.\n",
    "    \n",
    "    Note:\n",
    "        - selected frame can used to define crop region.\n",
    "        - must select the crop button to commit your frame selection\n",
    "    \"\"\"\n",
    "    def __init__(self, crop_frames):\n",
    "        \"\"\"display selection of images, select one to be used fro crop definition \"\"\"\n",
    "        self.title_widget = widgets.Label(value=\"browse / select image to crop\", layout={'border': '1px solid green','width':'61%'})\n",
    "        self.image_widget = widgets.Output(layout={'border': '1px solid red','width':'61%','height':'270pt'})\n",
    "        self.bck_button= widgets.Button(description=\"<\",layout={'width':'20%'})\n",
    "        self.crp_button= widgets.Button(description=\"crop\",layout={'width':'20%'})\n",
    "        self.fwd_button= widgets.Button(description=\">\",layout={'width':'20%'})\n",
    "        self.crop_frames = crop_frames\n",
    "        self.frame_idx = 0\n",
    "        self.frame_selected_callback = None\n",
    "\n",
    "    def display_image(self, image, image_widget):\n",
    "        \"\"\"convert from np array to image\n",
    "           :param idx: index into frame \n",
    "\n",
    "        \"\"\"\n",
    "        image_encoded = video.encode_img(Image.fromarray(image, 'RGB'))\n",
    "        img_raw = video.decode_img(image_encoded) \n",
    "        with image_widget:\n",
    "            display(img_raw)\n",
    "            clear_output(wait=True)\n",
    "\n",
    "    def image_update(self, inc):\n",
    "        if self.frame_idx + inc >= 0 and self.frame_idx + inc < len(self.crop_frames):\n",
    "            self.frame_idx += inc\n",
    "            self.title_widget.value = \"Viewing image #{}\".format(self.frame_idx)\n",
    "            self.display_image(self.crop_frames[self.frame_idx], self.image_widget)\n",
    "\n",
    "\n",
    "    def bckfwd_click(self, b):\n",
    "        self.image_update(1 if b.description == '>' else -1)\n",
    "\n",
    "    def crop_click(self, b):\n",
    "        self.fwd_button.disabled = True\n",
    "        self.bck_button.disabled = True\n",
    "        self.frame_selected_callback(self.frame_idx)\n",
    "\n",
    "    def ignition(self, frame_selected_callback):\n",
    "        self.frame_selected_callback = frame_selected_callback\n",
    "        self.crp_button.on_click(self.crop_click)\n",
    "        self.fwd_button.on_click(self.bckfwd_click)\n",
    "        self.bck_button.on_click(self.bckfwd_click)\n",
    "\n",
    "        buttons = widgets.HBox([self.bck_button, self.crp_button, self.fwd_button])\n",
    "        dashboard = widgets.VBox([self.title_widget, self.image_widget, buttons])\n",
    "        display(dashboard)\n",
    "        self.image_update(0)\n",
    "\n",
    "        \n",
    "def frame_selected(idx):\n",
    "    global FRAME_IDX\n",
    "    print(\"Use frame {} to work out cropping region.\".format(idx))\n",
    "    FRAME_IDX = idx\n",
    "    \n",
    "imgsel = image_select(CROP_FRAMES)\n",
    "imgsel.ignition(frame_selected)\n"
   ]
  },
  {
   "cell_type": "markdown",
   "metadata": {
    "pycharm": {
     "name": "#%% md\n"
    }
   },
   "source": [
    "## Define crop region using the selected image.\n",
    "#### Use  'Save Crop Sizes' when you're satisfied with the crop region."
   ]
  },
  {
   "cell_type": "code",
   "execution_count": null,
   "metadata": {},
   "outputs": [],
   "source": [
    "FRAME_IDX"
   ]
  },
  {
   "cell_type": "code",
   "execution_count": 5,
   "metadata": {},
   "outputs": [
    {
     "name": "stdout",
     "output_type": "stream",
     "text": [
      "Using frame #3 to specify crop region.\n"
     ]
    },
    {
     "data": {
      "application/vnd.jupyter.widget-view+json": {
       "model_id": "90697a7b89b6491590c335f98ce8e5b9",
       "version_major": 2,
       "version_minor": 0
      },
      "text/plain": [
       "GridBox(children=(Dropdown(description='Img Name:', layout=Layout(grid_area='im_selector', width='100%'), opti…"
      ]
     },
     "metadata": {},
     "output_type": "display_data"
    }
   ],
   "source": [
    "\n",
    "SHAPE = None\n",
    "def grabCropShape(image_name, shape):\n",
    "    global SHAPE\n",
    "    SHAPE = shape\n",
    "    print(\"set SHAPE \", image_name, shape, flush=True)\n",
    "\n",
    "try :\n",
    "    print(\"Using frame #{} to specify crop region.\".format(FRAME_IDX))\n",
    "    crop([CROP_FRAMES[FRAME_IDX]], callback=grabCropShape)\n",
    "except NameError as e:\n",
    "    print(\"You must select the 'crop' button above to commit your selection.\")\n",
    "crop([CROP_FRAMES[FRAME_IDX]], callback=grabCropShape)"
   ]
  },
  {
   "cell_type": "markdown",
   "metadata": {
    "pycharm": {
     "name": "#%% md\n"
    }
   },
   "source": [
    "## Show collected frames using the defined  crop region"
   ]
  },
  {
   "cell_type": "code",
   "execution_count": 7,
   "metadata": {
    "pycharm": {
     "name": "#%%\n"
    }
   },
   "outputs": [
    {
     "name": "stdout",
     "output_type": "stream",
     "text": [
      "Using shape : <interactivecrop.shapes.Rectangle object at 0x12b39af98>\n"
     ]
    },
    {
     "data": {
      "application/vnd.jupyter.widget-view+json": {
       "model_id": "0ab2f6d727bc465d968fd599f3c37259",
       "version_major": 2,
       "version_minor": 0
      },
      "text/plain": [
       "VBox(children=(Label(value='', layout=Layout(border='1px solid green', width='61%')), Output(layout=Layout(bor…"
      ]
     },
     "metadata": {},
     "output_type": "display_data"
    }
   ],
   "source": [
    "def crop_frame(frame, crop_specification):\n",
    "    region_of_interest = (crop_specification.size[0],\n",
    "                        crop_specification.size[1],\n",
    "                        crop_specification.size[0]+crop_specification.size[2],\n",
    "                        crop_specification.size[1]+crop_specification.size[3])\n",
    "    orginal_encoded = video.encode_img(Image.fromarray(frame, 'RGB'))\n",
    "    img_raw = video.decode_img(orginal_encoded)\n",
    "    cropped = img_raw.crop(region_of_interest)\n",
    "    image_encoded = video.encode_img(cropped)\n",
    "    return image_encoded\n",
    "        \n",
    "def collected_frames(crop_frames):\n",
    "    crop_label = widgets.Label(layout={'border': '1px solid green','width':'61%'})\n",
    "    crop_widget = widgets.Output(layout={'border': '1px solid green','width':'61%','height':'270pt'})\n",
    "    display(VBox([crop_label, crop_widget]))\n",
    "    crop_label.value = \"Review {} cropped images.\".format(len(crop_frames))  \n",
    "\n",
    "    for idx in range(len(crop_frames)):\n",
    "        with crop_widget:\n",
    "            time.sleep(1)\n",
    "            img = crop_frame(crop_frames[idx], SHAPE)\n",
    "            display(video.decode_img(img))\n",
    "            crop_label.value = \"{} of {}\".format(idx+1, len(crop_frames) )\n",
    "            clear_output(wait=True)\n",
    "\n",
    "            \n",
    "if SHAPE is None:\n",
    "    print(\"\\n\\nYou must select the 'Save Crop Sizes' button above to commit crop region.\\n\\n\")\n",
    "else:\n",
    "    print(\"Using shape : {}\".format(SHAPE))\n",
    "    collected_frames(CROP_FRAMES)"
   ]
  },
  {
   "cell_type": "code",
   "execution_count": 8,
   "metadata": {
    "pycharm": {
     "name": "#%%\n"
    }
   },
   "outputs": [],
   "source": [
    "%%script false --no-raise-error\n",
    "\n",
    "\n",
    "def show_frame(frame):\n",
    "    image_encoded = video.encode_img(Image.fromarray(frame, 'RGB'))\n",
    "    img_raw = video.decode_img(image_encoded)\n",
    "    clear_output(wait=True)\n",
    "    plt.imshow(img_raw)\n",
    "    plt.show()\n",
    "\n",
    "def frame_crop(frame):\n",
    "    cropped_img = crop_frame(frame, SHAPE)\n",
    "    clear_output(wait=True)\n",
    "    display(video.decode_img(cropped_img))\n",
    "\n",
    "    \n",
    "def fetch_frames(segment, frame_modulo=24, process_frame=show_frame):\n",
    "    cap = cv2.VideoCapture(segment['segment'])\n",
    "    count = 0\n",
    "    frames = list()\n",
    "    if (cap.isOpened()):\n",
    "        while True:\n",
    "            ret, frame = cap.read()\n",
    "            if ret is False:\n",
    "                print(\"end frame : {}\", count)\n",
    "                return frames\n",
    "            if count % frame_modulo == 0:\n",
    "                frames.append(frame)\n",
    "                process_frame(frame)\n",
    "                print(\"{} in {}\".format(count, segment))\n",
    "            count += 1\n",
    "    else:\n",
    "        print(\"Open failed....\")\n",
    "    return frames"
   ]
  },
  {
   "cell_type": "code",
   "execution_count": 9,
   "metadata": {
    "pycharm": {
     "name": "#%%\n"
    }
   },
   "outputs": [],
   "source": [
    "%%script false --no-raise-error\n",
    "\n",
    "displayed_segment = collections.deque(maxlen=10)\n",
    "for idx in range(10):\n",
    "    cams_response = requests.get(cams_chunk_url)\n",
    "    cams_chunklist = cams_response.text\n",
    "    #print(whatsupcams_chunklist)\n",
    "    segments = video.m3u8_segments(cams_chunklist, cams_base)\n",
    "    #print(\"loop idx : {}, segments:{} \".format(idx, len(segments)))\n",
    "    time.sleep(1)\n",
    "    for segment in segments:\n",
    "        if segment not in displayed_segment:\n",
    "        # only get the first frame \n",
    "            #frames = fetch_frames(segment, process_frame=show_frame)\n",
    "            frames = fetch_frames(segment, process_frame=frame_crop)\n",
    "            displayed_segment.append(segment)\n",
    "        else:\n",
    "            print(\"skip segment:{}\".format(segment))\n",
    "        "
   ]
  },
  {
   "cell_type": "code",
   "execution_count": 10,
   "metadata": {
    "pycharm": {
     "name": "#%%\n"
    }
   },
   "outputs": [],
   "source": [
    "%%script false --no-raise-error\n",
    "\n",
    "stream_label = widgets.Label(layout={'border': '1px solid green','width':'61%'})\n",
    "stream_widget = widgets.Output(layout={'border': '1px solid red','width':'61%','height':'270pt'})\n",
    "stream_status = widgets.Label(layout={'border': '1px solid green','width':'61%'})\n",
    "transmit_button = widgets.Button(description=\"Transmit to Streams\",layout={'width':'30%'})\n",
    "stop_button = widgets.Button(description=\"Stop Collecting frames\",layout={'width':'30%'})\n",
    "button_bar = widgets.HBox([transmit_button, stop_button])\n",
    "\n",
    "display(VBox([stream_label, stream_widget, button_bar, stream_status]))\n",
    "#stream.value = \"Review {} cropped images.\".format(len(crop_frames))  \n",
    "\n",
    "def stop_clicked(b):\n",
    "    print(\"stop\")\n",
    "    \n",
    "def transmit_clicked(b):\n",
    "    print(\"transmit\")\n",
    "    \n",
    "stop_button.on_click(stop_clicked)\n",
    "transmit_button.on_click(transmit_clicked)\n",
    "\n",
    "displayed_segment = collections.deque(maxlen=10)\n",
    "\n",
    "for idx in range(10):\n",
    "    cams_response = requests.get(cams_chunk_url)\n",
    "    cams_chunklist = cams_response.text\n",
    "    #print(whatsupcams_chunklist)\n",
    "    segments = video.m3u8_segments(cams_chunklist, cams_base)\n",
    "    #print(\"loop idx : {}, segments:{} \".format(idx, len(segments)))\n",
    "    time.sleep(1)\n",
    "    for segment in segments:\n",
    "        if segment not in displayed_segment:\n",
    "        # only get the first frame \n",
    "            #frames = fetch_frames(segment, process_frame=show_frame)\n",
    "            frames = fetch_frames(segment, process_frame=frame_crop)\n",
    "            displayed_segment.append(segment)\n",
    "        else:\n",
    "            print(\"skip segment:{}\".format(segment))\n"
   ]
  },
  {
   "cell_type": "code",
   "execution_count": 11,
   "metadata": {},
   "outputs": [],
   "source": [
    "%%script false --no-raise-error\n",
    "\n",
    "\n",
    "def show_frame(frame):\n",
    "    image_encoded = video.encode_img(Image.fromarray(frame, 'RGB'))\n",
    "    img_raw = video.decode_img(image_encoded)\n",
    "    clear_output(wait=True)\n",
    "    plt.imshow(img_raw)\n",
    "    plt.show()\n",
    "\n",
    "def frame_crop(frame):\n",
    "    cropped_img = crop_frame(frame, SHAPE)\n",
    "    clear_output(wait=True)\n",
    "    display(video.decode_img(cropped_img))\n",
    "\n",
    "    \n",
    "def fetch_frames(segment, frame_modulo=24, process_frame=show_frame, status_display=None):\n",
    "    cap = cv2.VideoCapture(segment['segment'])\n",
    "    count = 0\n",
    "    frames = list()\n",
    "    if (cap.isOpened()):\n",
    "        while True:\n",
    "            ret, frame = cap.read()\n",
    "            if ret is False:\n",
    "                if status_display is not None: status_display.value = \"ENDFrame @ {}\".format(count)\n",
    "                return frames\n",
    "            if count % frame_modulo == 0:\n",
    "                frames.append(frame)\n",
    "                process_frame(frame)\n",
    "                if status_display is not None: status_display.value = \"{} in {}\".format(count, segment)\n",
    "            count += 1\n",
    "    else:\n",
    "        print(\"Open failed....\")\n",
    "    return frames"
   ]
  },
  {
   "cell_type": "code",
   "execution_count": 12,
   "metadata": {},
   "outputs": [],
   "source": [
    "%%script false --no-raise-error\n",
    "\n",
    "displayed_segment = collections.deque(maxlen=10)\n",
    "for idx in range(10):\n",
    "    cams_response = requests.get(cams_chunk_url)\n",
    "    cams_chunklist = cams_response.text\n",
    "    #print(whatsupcams_chunklist)\n",
    "    segments = video.m3u8_segments(cams_chunklist, cams_base)\n",
    "    #print(\"loop idx : {}, segments:{} \".format(idx, len(segments)))\n",
    "    time.sleep(1)\n",
    "    for segment in segments:\n",
    "        if segment not in displayed_segment:\n",
    "        # only get the first frame \n",
    "            #frames = fetch_frames(segment, process_frame=show_frame)\n",
    "            frames = fetch_frames(segment, process_frame=frame_crop)\n",
    "            displayed_segment.append(segment)\n",
    "        else:\n",
    "            print(\"skip segment:{}\".format(segment))\n",
    "        "
   ]
  },
  {
   "cell_type": "markdown",
   "metadata": {
    "pycharm": {
     "name": "#%% md\n"
    }
   },
   "source": [
    "### create a dashboard"
   ]
  },
  {
   "cell_type": "code",
   "execution_count": 13,
   "metadata": {},
   "outputs": [
    {
     "data": {
      "application/vnd.jupyter.widget-view+json": {
       "model_id": "bba4b5d68f2c4e4b8983df602e81eb8f",
       "version_major": 2,
       "version_minor": 0
      },
      "text/plain": [
       "VBox(children=(Label(value='', layout=Layout(border='1px solid green', width='61%')), Output(layout=Layout(bor…"
      ]
     },
     "metadata": {},
     "output_type": "display_data"
    },
    {
     "name": "stdout",
     "output_type": "stream",
     "text": [
      "done\n"
     ]
    }
   ],
   "source": [
    "\n",
    "class stream_cropped_video():\n",
    "\n",
    "    def stop_clicked(self, b):\n",
    "        self.stream_action.value = \"STOP\"\n",
    "        self.stop = True\n",
    "    \n",
    "    def transmit_clicked(self, b):\n",
    "        stream_action.value = \"TO STREAM\"\n",
    "\n",
    "    \n",
    "        \n",
    "    def __init__(self, cams_chunk_url=None, shape=None):\n",
    "        self.cams_chunk_url = cams_chunk_url\n",
    "        self.cams_base = cams_base = video.extract_base(cams_chunk_url)\n",
    "        self.shape = shape\n",
    "        \n",
    "        self.stream_action = widgets.Label(layout={'border': '1px solid green','width':'61%'})\n",
    "        self.stream_widget = widgets.Output(layout={'border': '1px solid red','width':'61%','height':'270pt'})\n",
    "        self.stream_status = widgets.Label(layout={'border': '1px solid green','width':'61%'})\n",
    "        self.transmit_button = widgets.Button(description=\"Transmit to Streams\",layout={'width':'30%'})\n",
    "        self.stop_button = widgets.Button(description=\"Stop Collecting frames\",layout={'width':'30%'})\n",
    "        self.stop = False\n",
    "        self.to_streams = False\n",
    "        \n",
    "        self.button_bar = widgets.HBox([self.transmit_button, self.stop_button])\n",
    "        display(VBox([self.stream_action, self.stream_widget, self.button_bar, self.stream_status]))\n",
    "        \n",
    "        self.stop_button.on_click(self.stop_clicked)\n",
    "        self.transmit_button.on_click(self.transmit_clicked)\n",
    "        \n",
    "        self.displayed_segment = collections.deque(maxlen=10)\n",
    "\n",
    "\n",
    "    def frame_crop_display(self, frame):\n",
    "        \"\"\"crop frame and display\n",
    "        \n",
    "        Note: a crop region may not have been specified \n",
    "        \"\"\"\n",
    "        if self.shape is not None:\n",
    "            cropped_img = crop_frame(frame, self.shape)\n",
    "        else:\n",
    "            cropped_img = frame\n",
    "        with self.stream_widget:\n",
    "            display(video.decode_img(cropped_img))\n",
    "            clear_output(wait=True)\n",
    "            \n",
    "    def fetch_frames(self, segment, frame_modulo=24, process_frame=None):\n",
    "        cap = cv2.VideoCapture(segment['segment'])\n",
    "        count = 0\n",
    "        frames = list()\n",
    "        if (cap.isOpened()):\n",
    "            while True:\n",
    "                ret, frame = cap.read()\n",
    "                if ret is False:\n",
    "                    if self.stream_status is not None: self.stream_status.value = \"ENDFrame @ {}\".format(count)\n",
    "                    return frames\n",
    "                if count % frame_modulo == 0:\n",
    "                    frames.append(frame)\n",
    "                    process_frame(frame)\n",
    "                count += 1\n",
    "        else:\n",
    "            print(\"Open failed....\")\n",
    "        return frames\n",
    "    \n",
    "    def ignition(self, iterations=2, wait_time=1):\n",
    "        self.stream_action.value = \"Starting....\"\n",
    "        for idx in range(iterations):\n",
    "            if self.stop is True: break\n",
    "            cams_response = requests.get(self.cams_chunk_url)\n",
    "            cams_chunklist = cams_response.text\n",
    "            segments = video.m3u8_segments(cams_chunklist, self.cams_base)\n",
    "            time.sleep(wait_time)\n",
    "            for segment in segments:\n",
    "                if self.stop is True: break\n",
    "                if segment not in self.displayed_segment:\n",
    "                    #self.stream_action.value = \"Fetching....\"\n",
    "                    self.stream_action.value = \"{} secs of frames in : {}\".format(segment['secs'], segment['segment'])\n",
    "                    frames = self.fetch_frames(segment, process_frame=self.frame_crop_display)\n",
    "                    self.stream_status.value = \"Fetched ... {} frames.\".format(len(frames))\n",
    "                    self.displayed_segment.append(segment)\n",
    "                else:\n",
    "                    self.stream_status.value = \"skip segment:{}\".format(segment)\n",
    "\n",
    "scv = stream_cropped_video(M3U8, SHAPE)\n",
    "scv.ignition(iterations=2)\n",
    "print(\"done\")\n"
   ]
  },
  {
   "cell_type": "code",
   "execution_count": null,
   "metadata": {},
   "outputs": [],
   "source": []
  }
 ],
 "metadata": {
  "kernelspec": {
   "display_name": "Python 3",
   "language": "python",
   "name": "python3"
  },
  "language_info": {
   "codemirror_mode": {
    "name": "ipython",
    "version": 3
   },
   "file_extension": ".py",
   "mimetype": "text/x-python",
   "name": "python",
   "nbconvert_exporter": "python",
   "pygments_lexer": "ipython3",
   "version": "3.6.9"
  }
 },
 "nbformat": 4,
 "nbformat_minor": 2
}
